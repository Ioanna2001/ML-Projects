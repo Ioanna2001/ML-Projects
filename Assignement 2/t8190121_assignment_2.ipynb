{
 "cells": [
  {
   "cell_type": "markdown",
   "metadata": {},
   "source": [
    "# Assignment 2: International Sports Events: Window Dressing and Repression"
   ]
  },
  {
   "cell_type": "markdown",
   "metadata": {},
   "source": [
    ">Ioanna Moraiti <br />\n",
    ">AM: 8190121 <br />\n",
    ">Email: t8190121@aueb.gr"
   ]
  },
  {
   "cell_type": "markdown",
   "metadata": {},
   "source": [
    "Η εργασία βασίζεται στο paper και στο supporting information: \n",
    "* Scharpf, A., Gläßel, C., Pearce, E. (2022) *International Sports Events and Repression in Autocracies: Evidence from the 1978 FIFA World Cup*, American Political Science Review, 1-18.  https://doi:10.1017/S0003055422000958.\n",
    "* Supporting Information (SI): https://static.cambridge.org/content/id/urn:cambridge.org:id:article:S0003055422000958/resource/name/S0003055422000958sup001.pdf\n",
    "\n",
    "Από το dataset που είναι διαθέσιμο στον παρακάτω σύνδεσμο:\n",
    "* https://dataverse.harvard.edu/dataset.xhtml?persistentId=doi:10.7910/DVN/RJY34I"
   ]
  },
  {
   "cell_type": "markdown",
   "metadata": {},
   "source": [
    "## Question 1"
   ]
  },
  {
   "cell_type": "markdown",
   "metadata": {},
   "source": [
    "Για το πρώτο ερώτημα ζητείται η δημηουργία των πινάκων SI.3.1 και SI.3.2 του SI καθώς και τα διαγράμματα SI.1.1 και Figure 1."
   ]
  },
  {
   "cell_type": "markdown",
   "metadata": {},
   "source": [
    "### SI.3.1"
   ]
  },
  {
   "cell_type": "markdown",
   "metadata": {},
   "source": [
    "Αρχικά κάνουμε import τις απαραίτητες βιβλιοθήκες."
   ]
  },
  {
   "cell_type": "code",
   "execution_count": null,
   "metadata": {},
   "outputs": [],
   "source": [
    "import pandas as pd"
   ]
  },
  {
   "cell_type": "markdown",
   "metadata": {},
   "source": [
    "Επιπλέον θα δημιουργήσω μια συνάρτηση η οποία θα φτιάχνει τον τελικό πίνακα με τα στοιχεία που χρειάζεται στη σωστή μορφή."
   ]
  },
  {
   "cell_type": "code",
   "execution_count": null,
   "metadata": {},
   "outputs": [],
   "source": [
    "def formatting_table(table):\n",
    "    table.rename(columns={'count': 'Count',\n",
    "                           'mean': 'Mean',\n",
    "                           'std': 'Std. dev.',\n",
    "                           'min': 'Min.',\n",
    "                           'max': 'Max.'}, inplace=True)\n",
    "    table = table.astype({'Count': int})\n",
    "    table['Mean'] = table['Mean'].apply(lambda x: round(x, 3))\n",
    "    table['Std. dev.'] = table['Std. dev.'].apply(lambda x: round(x, 3))\n",
    "    table['Min.'] = table['Min.'].apply(lambda x: round(x, 3))\n",
    "    table['Max.'] = table['Max.'].apply(lambda x: round(x, 3))\n",
    "    return table"
   ]
  },
  {
   "cell_type": "markdown",
   "metadata": {},
   "source": [
    "Ξεκινάω διαβάζοντας τα δεδομένα μου και δίνοντάς τους τα ονόματα που θέλω να εμφανίζουν."
   ]
  },
  {
   "cell_type": "code",
   "execution_count": null,
   "metadata": {},
   "outputs": [],
   "source": [
    "data = pd.read_table('main_data.tab',\n",
    "                     usecols=['repression',\n",
    "                              'lnrepression',\n",
    "                              'dumrepression',\n",
    "                              'hostcity',\n",
    "                              'postwc_time3mdum',\n",
    "                              'prox_hotelonly',\n",
    "                              'prox_hotelpress',\n",
    "                              'time',\n",
    "                              'time2',\n",
    "                              'time3',\n",
    "                              'time_postwc',\n",
    "                              'time2_postwc',\n",
    "                              'time3_postwc',\n",
    "                              'lnpop_1970',\n",
    "                              'literacy_avg',\n",
    "                              'vote_frejuli',\n",
    "                              'lnrebact1974',\n",
    "                              'lnrepression70_77',\n",
    "                              'latitude',\n",
    "                              'lnstrikes',\n",
    "                              'lnlag_strikes',\n",
    "                              'lnlag2_strikes',\n",
    "                              'zone1',\n",
    "                              'zone2',\n",
    "                              'zone3',\n",
    "                              'zone4',\n",
    "                              'zone5'],\n",
    "                     header=0)\n",
    "\n",
    "'''\n",
    "Rename to fit tables\n",
    "'''\n",
    "data.rename(columns={'repression': 'Repression events',\n",
    "                     'lnrepression': 'Repression events logarithmic',\n",
    "                     'dumrepression': 'Repression events binary',\n",
    "                     'hostcity': 'Host City',\n",
    "                     'postwc_time3mdum': 'Post World Cup Period',\n",
    "                     'prox_hotelonly': 'Proximity to Hotel',\n",
    "                     'prox_hotelpress': 'Proximity to Journalist Venue',\n",
    "                     'time': 'Time',\n",
    "                     'time2': 'Time 2',\n",
    "                     'time3': 'Time 3',\n",
    "                     'time_postwc': 'Time Post World Cup',\n",
    "                     'time2_postwc': 'Time Post World Cup 2',\n",
    "                     'time3_postwc': 'Time Post World Cup 3',\n",
    "                     'lnpop_1970': 'Population Size',\n",
    "                     'literacy_avg': 'Literacy Rate',\n",
    "                     'vote_frejuli': 'Peronist Vote Share',\n",
    "                     'lnrebact1974': 'Rebel Activity',\n",
    "                     'lnrepression70_77': 'Past Repression',\n",
    "                     'latitude': 'Latitude',\n",
    "                     'lnstrikes': 'Protest - Current month',\n",
    "                     'lnlag_strikes': 'Protest - One month ago',\n",
    "                     'lnlag2_strikes': 'Protest - Two months ago',\n",
    "                     'zone1': 'Military Zone 1',\n",
    "                     'zone2': 'Military Zone 2',\n",
    "                     'zone3': 'Military Zone 3',\n",
    "                     'zone4': 'Military Zone 4',\n",
    "                     'zone5': 'Military Zone 5'}, inplace=True)"
   ]
  },
  {
   "cell_type": "markdown",
   "metadata": {},
   "source": [
    "Τέλος, καθώς η συγκεκριμένη λειτουργία δεν δίνεται με κάποιον τρόπο, δημιουργώ και έναν πίνακα με τη στήλη type."
   ]
  },
  {
   "cell_type": "code",
   "execution_count": null,
   "metadata": {},
   "outputs": [],
   "source": [
    "type = ['Count', 'Continuous', 'Binary', 'Binary', 'Binary', 'Continuous', 'Continuous',\n",
    "        'Count', 'Count', 'Count', 'Count', 'Count', 'Count', 'Continuous',\n",
    "        'Continuous', 'Continuous', 'Continuous', 'Continuous', 'Continuous',\n",
    "        'Continuous', 'Continuous', 'Continuous', 'Binary', 'Binary', 'Binary',\n",
    "        'Binary', 'Binary']"
   ]
  },
  {
   "cell_type": "markdown",
   "metadata": {},
   "source": [
    "Τέλος, επιλέγω τα δεδομένα που βρίσκονται στην χρονική διάρκεια που ζητείται και φτιάχνω τον πίνακα."
   ]
  },
  {
   "cell_type": "code",
   "execution_count": null,
   "metadata": {
    "scrolled": true
   },
   "outputs": [],
   "source": [
    "si_3_1 = data[data['Time'].notna() & data['Time 2'].notna() & data['Time 3'].notna()].\\\n",
    "         describe().transpose()\n",
    "si_3_1.insert(0, 'Type', type)\n",
    "si_3_1.drop(labels=['25%', '50%', '75%'], axis=1, inplace=True)\n",
    "si_3_1.drop(index=['Time Post World Cup',\n",
    "                   'Time Post World Cup 2',\n",
    "                   'Time Post World Cup 3',\n",
    "                   'Post World Cup Period'], axis=0, inplace=True)\n",
    "si_3_1 = formatting_table(si_3_1)\n",
    "si_3_1"
   ]
  },
  {
   "cell_type": "markdown",
   "metadata": {},
   "source": [
    "### SI.3.2"
   ]
  },
  {
   "cell_type": "markdown",
   "metadata": {},
   "source": [
    "Εκμεταλλευόμενη την προεργασία που κάναμε στα προηγούμενα βήματα δημιουργούμε γρήγορα τον πίνακα SI.3.2."
   ]
  },
  {
   "cell_type": "code",
   "execution_count": null,
   "metadata": {
    "scrolled": true
   },
   "outputs": [],
   "source": [
    "si_3_2 = data[data['Post World Cup Period'].notna()].\\\n",
    "         describe().transpose()\n",
    "si_3_2.insert(0, 'Type', type)\n",
    "si_3_2.drop(labels=['25%', '50%', '75%'], axis=1, inplace=True)\n",
    "si_3_2.drop(index=['Repression events binary',\n",
    "                   'Time',\n",
    "                   'Time 2',\n",
    "                   'Time 3',\n",
    "                   'Proximity to Hotel',\n",
    "                   'Proximity to Journalist Venue',\n",
    "                   'Latitude',\n",
    "                   'Protest - Current month',\n",
    "                   'Protest - One month ago',\n",
    "                   'Protest - Two months ago'], axis=0, inplace=True)\n",
    "si_3_2 = formatting_table(si_3_2)\n",
    "si_3_2"
   ]
  },
  {
   "cell_type": "markdown",
   "metadata": {},
   "source": [
    "### Figure 1"
   ]
  },
  {
   "cell_type": "markdown",
   "metadata": {},
   "source": [
    "Για το συγκεκριμένο ερώτημα κάνουμε τα απαραίτητα imports βιβλιοθηκών και στη συνέχεια διαβάζουμε τα δεδομένα και προσθέτουμε τα ονόματα στηλών που λείπουν. Η ονομασία έγινε σύμφωνα με το dataset το οποίο κατεβάζοντας τα archival αρχεία χάνονταν τα ονόματα των στηλών."
   ]
  },
  {
   "cell_type": "code",
   "execution_count": null,
   "metadata": {},
   "outputs": [],
   "source": [
    "import seaborn as sns\n",
    "import matplotlib.pyplot as plt\n",
    "\n",
    "data = pd.read_table('figure_1_data.tab', sep='\\t', header=None)\n",
    "data = data.loc[:, 0:3:3]\n",
    "data.rename(columns={0: 'Index',\n",
    "                     3: 'Autocratic Host Regimes (in %)'}, inplace=True)\n",
    "year_map = {1: '1990-1994',\n",
    "            2: '1995-1999',\n",
    "            3: '2000-2004',\n",
    "            4: '2005-2009',\n",
    "            5: '2010-2014',\n",
    "            6: '2015-2019',\n",
    "            7: '2020-2022'}\n",
    "data['Years'] = data['Index'].map(year_map)"
   ]
  },
  {
   "cell_type": "markdown",
   "metadata": {},
   "source": [
    "Τέλος, φτιάχνουμε το διάγραμμα."
   ]
  },
  {
   "cell_type": "code",
   "execution_count": null,
   "metadata": {},
   "outputs": [],
   "source": [
    "plt.figure(figsize=(7, 5))\n",
    "sns.set_style('white')\n",
    "_ = sns.lineplot(data=data, y='Autocratic Host Regimes (in %)', x='Years', marker='s', color='black')\n",
    "plt.xticks(rotation=45)\n",
    "plt.show()"
   ]
  },
  {
   "cell_type": "markdown",
   "metadata": {},
   "source": [
    "### SI.1.1"
   ]
  },
  {
   "cell_type": "markdown",
   "metadata": {},
   "source": [
    "Κάνω τα απαραίτητα imports και μετονομάζω τις στήλες όπως στο προηγούμενο ερώτημα."
   ]
  },
  {
   "cell_type": "code",
   "execution_count": null,
   "metadata": {},
   "outputs": [],
   "source": [
    "from plotnine import *\n",
    "import numpy as np\n",
    "\n",
    "data = pd.read_table('figure_SI11_data.tab', sep='\\t', header=None)\n",
    "data.rename(columns={0: 'year',\n",
    "                     1: 'regime',\n",
    "                     2: 'baseline',\n",
    "                     3: 'democ',\n",
    "                     4: 'autoc'}, inplace=True)"
   ]
  },
  {
   "cell_type": "markdown",
   "metadata": {},
   "source": [
    "Ακόμα, επειδή η στήλη baseline αντιστοιχεί στα αντίστοιχα πρωταθλήματα που εμφανίζονται στο διάγραμμα, κάνω mapping στις αξίες."
   ]
  },
  {
   "cell_type": "code",
   "execution_count": null,
   "metadata": {},
   "outputs": [],
   "source": [
    "championships = {27.5: 'Volleyball World Championship',\n",
    "                 25: 'Basketball World Cup',\n",
    "                 22.5: 'World Tennis Championships',\n",
    "                 20: 'World Handball Championship',\n",
    "                 17.5: 'Cricket World Cup',\n",
    "                 15: 'FIFA World Cup',\n",
    "                 12.5: 'Ice Hockey Championships',\n",
    "                 10: 'World Athletics Championships',\n",
    "                 7.5: 'Summer Olympic Games',\n",
    "                 5: 'Winter Olympic Games',\n",
    "                 2.5: 'Rugby World Cup'}\n",
    "data['championships'] = data['baseline'].map(championships)"
   ]
  },
  {
   "cell_type": "markdown",
   "metadata": {},
   "source": [
    "Τέλος, με την βιβλιοθήκη plotnine δημιουργώ το διάγραμμα."
   ]
  },
  {
   "cell_type": "code",
   "execution_count": null,
   "metadata": {},
   "outputs": [],
   "source": [
    "si_1_1 = ggplot(data=data, mapping=aes(x='year')) + \\\n",
    "        geom_tile(aes(y='democ', width=0.7), color='#9d9d9d', fill='#9d9d9d', na_rm=True) + \\\n",
    "        geom_tile(aes(y='autoc', width=0.7), na_rm=True) + \\\n",
    "        geom_hline(aes(y='championships'), yintercept=np.arange(2.5, 30, 2.5), alpha=0.5, inherit_aes=False) + \\\n",
    "        scale_x_continuous(breaks=range(1950, 2030, 10), name='') + \\\n",
    "        scale_y_continuous(breaks=np.arange(2.5, 30, 2.5), name='', labels=data['championships'].unique().tolist()) + \\\n",
    "        theme_classic()\n",
    "print(si_1_1)"
   ]
  },
  {
   "cell_type": "markdown",
   "metadata": {},
   "source": [
    "## Question 2"
   ]
  },
  {
   "cell_type": "markdown",
   "metadata": {},
   "source": [
    "Για τη δημιουργία του πίνακα κάνουμε αρχικά τα απαραίτητα imports και διαβάζουμε τα δεδομένα. Επιλέγουμε επίσης την επιθυμητή χρονική περίοδο. Η βιβλιοθήκη Stargazer θα χρησιμοποιηθεί αργότερα για την αναπαράσταση των πινάκων."
   ]
  },
  {
   "cell_type": "code",
   "execution_count": null,
   "metadata": {},
   "outputs": [],
   "source": [
    "pip install stargazer"
   ]
  },
  {
   "cell_type": "code",
   "execution_count": null,
   "metadata": {},
   "outputs": [],
   "source": [
    "pip install IPython.display"
   ]
  },
  {
   "cell_type": "code",
   "execution_count": null,
   "metadata": {},
   "outputs": [],
   "source": [
    "import statsmodels.formula.api as smf\n",
    "from stargazer.stargazer import Stargazer, LineLocation\n",
    "from IPython.display import display, HTML\n",
    "\n",
    "data = pd.read_table('main_data.tab',\n",
    "                     usecols=['lnrepression',\n",
    "                              'hostcity',\n",
    "                              'time',\n",
    "                              'time2',\n",
    "                              'lnpop_1970',\n",
    "                              'literacy_avg',\n",
    "                              'vote_frejuli',\n",
    "                              'lnrebact1974',\n",
    "                              'lnrepression70_77',\n",
    "                              'zone1',\n",
    "                              'zone2',\n",
    "                              'zone3',\n",
    "                              'zone4',\n",
    "                              'zone5'\n",
    "                              ],\n",
    "                     header=0)\n",
    "data.dropna(subset=['time', 'time2'], inplace=True)"
   ]
  },
  {
   "cell_type": "markdown",
   "metadata": {},
   "source": [
    "Στη συνέχεια ξεκινάω την παλινδρόμιση με την μέθοδο Ordinary Least Squares ώστε να παράξω τα μοντέλα του πίνακα."
   ]
  },
  {
   "cell_type": "code",
   "execution_count": null,
   "metadata": {},
   "outputs": [],
   "source": [
    "#Model 1\n",
    "repression1 = smf.ols('lnrepression ~ hostcity * time + '\n",
    "                      'hostcity * time2 + '\n",
    "                      'hostcity + '\n",
    "                      'time + '\n",
    "                      'time2'\n",
    "                      , data=data)\n",
    "repression1_res = repression1.fit(cov_type='HC1')\n",
    "#Model 2\n",
    "repression2 = smf.ols('lnrepression ~ hostcity * time + '\n",
    "                      'hostcity * time2 + '\n",
    "                      'hostcity + '\n",
    "                      'time + '\n",
    "                      'time2 + '\n",
    "                      'lnpop_1970 + '\n",
    "                      'literacy_avg + '\n",
    "                      'vote_frejuli + '\n",
    "                      'lnrebact1974 + '\n",
    "                      'lnrepression70_77'\n",
    "                      , data=data)\n",
    "repression2_res = repression2.fit(cov_type='HC1')\n",
    "#Model 3\n",
    "repression3 = smf.ols('lnrepression ~ hostcity * time + '\n",
    "                      'hostcity * time2 + '\n",
    "                      'hostcity + '\n",
    "                      'time + '\n",
    "                      'time2 + '\n",
    "                      'lnpop_1970 + '\n",
    "                      'literacy_avg + '\n",
    "                      'vote_frejuli + '\n",
    "                      'lnrebact1974 + '\n",
    "                      'lnrepression70_77 + '\n",
    "                      'zone2 + '\n",
    "                      'zone3 + '\n",
    "                      'zone4 + '\n",
    "                      'zone5'\n",
    "                      , data=data)\n",
    "repression3_res = repression3.fit(cov_type='HC1')"
   ]
  },
  {
   "cell_type": "markdown",
   "metadata": {},
   "source": [
    "Τέλος, δείχνω τα αποτελέσματά μου."
   ]
  },
  {
   "cell_type": "code",
   "execution_count": null,
   "metadata": {},
   "outputs": [],
   "source": [
    "stargazer = Stargazer([repression1_res, repression2_res, repression3_res])\n",
    "stargazer.covariate_order(['hostcity:time', 'hostcity:time2', 'hostcity', 'time', 'time2',\n",
    "                           'lnpop_1970', 'literacy_avg', 'vote_frejuli', 'lnrebact1974',\n",
    "                           'lnrepression70_77', 'Intercept'])\n",
    "stargazer.rename_covariates({'Intercept': 'Constant',\n",
    "                             'hostcity': 'Host City',\n",
    "                             'hostcity:time': 'Host City * Time',\n",
    "                             'hostcity:time2': 'Host City * Time<sup>2</sup>',\n",
    "                             'literacy_avg': 'Literacy Rate',\n",
    "                             'lnpop_1970': 'Population Size',\n",
    "                             'lnrebact1974': 'Rebel Activity',\n",
    "                             'lnrepression70_77': 'Past Repression',\n",
    "                             'time': 'Time',\n",
    "                             'time2': 'Time<sup>2</sup>',\n",
    "                             'vote_frejuli': 'Peronist Vote Share'})\n",
    "\n",
    "display(HTML(stargazer.render_html()))"
   ]
  },
  {
   "cell_type": "markdown",
   "metadata": {},
   "source": [
    "### Interpretation"
   ]
  },
  {
   "cell_type": "markdown",
   "metadata": {},
   "source": [
    "Έχοντας θέσει τις υποθέσεις:\n",
    "* H1: In the run-up to an international sports tournament, state repression spikes in host cities, but not in other cities.\n",
    "\n",
    "* H2: During an international sports tournament, state repression drops in host cities but remains unchanged in other cities.\n",
    "\n",
    "Βλέπουμε πως τα αποτελέσματα του πίνακα τις επιβεβαιώνουν. Η θετική συσχέτιση μεταξύ Host City και Time και η αρνητική μεταξύ Host City και Time$^{2}$ δείχνει πως η καταπίεση στην πόλη που διεξάχθηκε το τουρνουά αρχικά αυξήθηκε και μετά ξαναμειώθηκε. Επιπλέον, τα μεγέθη είναι στατιστικά (p < 0.05) σημαντικά άρα μπορούμε να εμπιστευτούμε κατά μεγάλο ποσοστό τις επιδράσεις. Ως προς τους υπόλοιπους δείκτες, παρόλο που οι περισσότεροι είναι στατιστικά σημαντικοί, η επίδρασή τους είναι τόσο μικρή σε σχέση με τον Host City * Time και τον Host City * Time$^{2}$ που δεν μπορούμε με σιγουριά να ερμηνεύσουμε την επίδραση που πραγματικά έχουν."
   ]
  },
  {
   "cell_type": "markdown",
   "metadata": {},
   "source": [
    "## Question 3"
   ]
  },
  {
   "cell_type": "markdown",
   "metadata": {},
   "source": [
    "### Figure 5"
   ]
  },
  {
   "cell_type": "markdown",
   "metadata": {},
   "source": [
    "Ξεκινώντας, διαβάζουμε τα δεδομένα και κρατάμε τις εγγραφές της χρονικής περιόδου που μας απασχολεί."
   ]
  },
  {
   "cell_type": "code",
   "execution_count": null,
   "metadata": {},
   "outputs": [],
   "source": [
    "data = pd.read_table('main_data.tab',\n",
    "                     usecols=['repression',\n",
    "                              'lnrepression',\n",
    "                              'dumrepression',\n",
    "                              'hostcity',\n",
    "                              'time',\n",
    "                              'time2',\n",
    "                              'lnpop_1970',\n",
    "                              'literacy_avg',\n",
    "                              'vote_frejuli',\n",
    "                              'lnrebact1974',\n",
    "                              'lnrepression70_77',\n",
    "                              'zone1',\n",
    "                              'zone2',\n",
    "                              'zone3',\n",
    "                              'zone4',\n",
    "                              'zone5',\n",
    "                              'date'\n",
    "                              ],\n",
    "                     header=0,\n",
    "                     parse_dates=['date'])\n",
    "data.dropna(subset=['time', 'time2'], inplace=True)"
   ]
  },
  {
   "cell_type": "markdown",
   "metadata": {},
   "source": [
    "Στη συνέχεια, με τη μέθοδο OLS ξεκινάμε την παλινδρόμιση και στη συνέχεια αποθηκεύουμε στην στήλη predicted του dataframe τις προβλέψεις που προέκυψαν από αυτή."
   ]
  },
  {
   "cell_type": "code",
   "execution_count": null,
   "metadata": {},
   "outputs": [],
   "source": [
    "repression3 = smf.ols('lnrepression ~ hostcity * time + '\n",
    "                      'hostcity * time2 + '\n",
    "                      'hostcity + '\n",
    "                      'time + '\n",
    "                      'time2 + '\n",
    "                      'lnpop_1970 + '\n",
    "                      'literacy_avg + '\n",
    "                      'vote_frejuli + '\n",
    "                      'lnrebact1974 + '\n",
    "                      'lnrepression70_77 + '\n",
    "                      'zone2 + '\n",
    "                      'zone3 + '\n",
    "                      'zone4 + '\n",
    "                      'zone5'\n",
    "                      , data=data)\n",
    "repression3_res = repression3.fit(cov_type='HC1')\n",
    "data['predicted'] = repression3_res.predict(data.loc[:, ['hostcity',\n",
    "                                                         'time',\n",
    "                                                         'time2',\n",
    "                                                         'lnpop_1970',\n",
    "                                                         'literacy_avg',\n",
    "                                                         'vote_frejuli',\n",
    "                                                         'lnrebact1974',\n",
    "                                                         'lnrepression70_77',\n",
    "                                                         'zone2',\n",
    "                                                         'zone3',\n",
    "                                                         'zone4',\n",
    "                                                         'zone5']])"
   ]
  },
  {
   "cell_type": "markdown",
   "metadata": {},
   "source": [
    "Τέλος, δημιουργώ το διάγραμμα."
   ]
  },
  {
   "cell_type": "code",
   "execution_count": null,
   "metadata": {},
   "outputs": [],
   "source": [
    "fig, (ax1, ax2) = plt.subplots(1, 2, figsize=(15, 7.5))\n",
    "\n",
    "sns.set_style('ticks')\n",
    "labels = ['March 1', 'April 1', 'May 1', 'June 1', 'June 25']\n",
    "ticks = [np.datetime64('1978-03-01'), np.datetime64('1978-04-01'), np.datetime64('1978-05-01'), np.datetime64('1978-06-01'), np.datetime64('1978-06-25')]\n",
    "\n",
    "fig_a = sns.lineplot(data=data[data['hostcity'] == 1], x='date', y='predicted', color='black',\n",
    "                 err_style='band', err_kws={'alpha': 1, 'ec': '#858585', 'fc': '#858585'}, ax=ax1)\n",
    "fig_a.set_title('(a) Host Cities')\n",
    "fig_a.set_xlabel('')\n",
    "fig_a.set_ylabel('Predicted number of daily repression events')\n",
    "fig_a.set_xlim(ticks[0], ticks[-1])\n",
    "fig_a.set_ylim(0, 0.2)\n",
    "\n",
    "fig_b = sns.lineplot(data=data[data['hostcity'] == 0], x='date', y='predicted', color='black',\n",
    "    err_style='band', err_kws={'alpha': 1, 'ec': '#b6b6b6', 'fc': '#b6b6b6'}, dashes=(2, 2), ax=ax2)\n",
    "fig_b.set_title('(b) Other Cities')\n",
    "fig_b.set_xlabel('')\n",
    "fig_b.set_ylabel('')\n",
    "fig_b.set_xlim(ticks[0], ticks[-1])\n",
    "fig_b.set_ylim(0, 0.02)\n",
    "\n",
    "ax1.set_xticks(ticks)\n",
    "ax1.set_xticklabels(labels)\n",
    "ax1.axvspan(ticks[3], ticks[4], color='#f2f2f2', ec=None, zorder=0)\n",
    "ax1.annotate(text='World Cup', xy=(np.datetime64('1978-06-05'), 0.193))\n",
    "ax2.axvspan(ticks[3], ticks[4], color='#f2f2f2', ec=None, zorder=0)\n",
    "ax2.annotate(text='World Cup', xy=(np.datetime64('1978-06-05'), 0.0193))\n",
    "ax2.set_xticks(ticks)\n",
    "ax2.set_xticklabels(labels)\n",
    "plt.show()"
   ]
  },
  {
   "cell_type": "markdown",
   "metadata": {},
   "source": [
    "### Relevant Information"
   ]
  },
  {
   "cell_type": "markdown",
   "metadata": {},
   "source": [
    "Στο παρακάτω διάγραμμα μπορούμε να δούμε τα πραγματικά δεδομένα σε σχέση με τις προβλέψεις του μοντέλου. Βλέπουμε πως η πορεία που ακολουθούν τα πραγματικά δεδομένα είναι όμοια με αυτή των προβλέψεων."
   ]
  },
  {
   "cell_type": "code",
   "execution_count": null,
   "metadata": {},
   "outputs": [],
   "source": [
    "fig, (ax1, ax2) = plt.subplots(1, 2, figsize=(10, 5))\n",
    "\n",
    "sns.set_style('ticks')\n",
    "labels = ['March 1', 'April 1', 'May 1', 'June 1', 'June 25']\n",
    "ticks = [np.datetime64('1978-03-01'), np.datetime64('1978-04-01'), np.datetime64('1978-05-01'), np.datetime64('1978-06-01'), np.datetime64('1978-06-25')]\n",
    "\n",
    "fig_a = sns.lineplot(data=data[data['hostcity'] == 1], x='date', y='predicted', color='black',\n",
    "                 err_style='band', err_kws={'alpha': 0.3, 'ec': None}, ax=ax1)\n",
    "fig_a.set_title('(a) Host Cities')\n",
    "fig_a.set_xlabel('')\n",
    "fig_a.set_ylabel('Predicted number of daily repression events')\n",
    "fig_a.set_xlim(ticks[0], ticks[-1])\n",
    "fig_a.set_ylim(0, 0.5)\n",
    "sc_a = sns.lineplot(data=data[data['hostcity'] == 1], x='date', y='lnrepression', ax=ax1, zorder=10,\n",
    "                    err_kws={'alpha': 0}, color='red', alpha=0.3)\n",
    "sc_a.set_xlabel('')\n",
    "sc_a.set_ylabel('')\n",
    "\n",
    "fig_b = sns.lineplot(data=data[data['hostcity'] == 0], x='date', y='predicted', color='black',\n",
    "    err_style='band', err_kws={'alpha': 0.3, 'ec': None}, dashes=(2, 2), ax=ax2)\n",
    "fig_b.set_title('(b) Other Cities')\n",
    "fig_b.set_xlabel('')\n",
    "fig_b.set_ylabel('')\n",
    "fig_b.set_xlim(ticks[0], ticks[-1])\n",
    "fig_b.set_ylim(0, 0.02)\n",
    "sc_b = sns.lineplot(data=data[data['hostcity'] == 0], x='date', y='lnrepression', ax=ax2, zorder=10,\n",
    "                    err_kws={'alpha': 0}, color='red', alpha=0.3)\n",
    "sc_b.set_xlabel('')\n",
    "sc_b.set_ylabel('')\n",
    "\n",
    "ax1.set_xticks(ticks)\n",
    "ax1.set_xticklabels(labels)\n",
    "ax1.axvspan(ticks[3], ticks[4], color='#f2f2f2', alpha=0.2, ec=None)\n",
    "ax1.annotate(text='World Cup', xy=(np.datetime64('1978-06-02'), 0.48))\n",
    "ax2.axvspan(ticks[3], ticks[4], color='#f2f2f2', alpha=0.2, ec=None)\n",
    "ax2.annotate(text='World Cup', xy=(np.datetime64('1978-06-02'), 0.0193))\n",
    "ax2.set_xticks(ticks)\n",
    "ax2.set_xticklabels(labels)\n",
    "plt.show()"
   ]
  },
  {
   "cell_type": "markdown",
   "metadata": {},
   "source": [
    "### Interpretation"
   ]
  },
  {
   "cell_type": "markdown",
   "metadata": {},
   "source": [
    "Το σχήμα των καμπυλών είναι διαφορετικό από το Figure 5 του paper γιατί χρησιμοποιείται η μέθοδος παλινδρόμισης OLS και όχι Negative Binomial Regression. Παρόλα αυτά, το σχήμα των καμπυλών επιβεβαιώνει τις υποθέσεις που θέσαμε στο ερώτημα 2. Στο διάγραμμα (a), το οποίο δείχνει τα επίπεδα represssion στις πόλεις διεξαγωγής του αθλητικού τουρνουά, βλέπουμε μια απότομη αύξηση των repression events πριν την έναρξη του τουρνουά και μία απότομη πτώση κατά τη διάρκεια διεξαγωγής του. Παρατηρούμε επίσης πως στις host cities, ακόμα και στις περιόδους με χαμηλά repression events, η τιμή τους είναι τουλάχιστον δεκαπλάσια από ότι στις non-host cities. Ως προς το διάγραμμα (b), η καμπύλη τείνει να γίνει ευθεία και φαίνεται η σταθερή πορεία των repression events."
   ]
  },
  {
   "cell_type": "markdown",
   "metadata": {},
   "source": [
    "## Question 4"
   ]
  },
  {
   "cell_type": "markdown",
   "metadata": {},
   "source": [
    "### SI.4.5"
   ]
  },
  {
   "cell_type": "markdown",
   "metadata": {},
   "source": [
    "Ξεκινώντας, διαβάζουμε το dataset που χρειαζόμαστε και αποθηκεύουμε τις στήλες που μας ενδιαφέρουν σε ένα dataframe."
   ]
  },
  {
   "cell_type": "code",
   "execution_count": null,
   "metadata": {},
   "outputs": [],
   "source": [
    "data = pd.read_table('main_data.tab',\n",
    "                     usecols=['dumrepression',\n",
    "                              'hostcity',\n",
    "                              'time',\n",
    "                              'time2',\n",
    "                              'lnpop_1970',\n",
    "                              'literacy_avg',\n",
    "                              'vote_frejuli',\n",
    "                              'lnrebact1974',\n",
    "                              'lnrepression70_77',\n",
    "                              'zone1',\n",
    "                              'zone2',\n",
    "                              'zone3',\n",
    "                              'zone4',\n",
    "                              'zone5'\n",
    "                              ],\n",
    "                     header=0)\n",
    "data.dropna(subset=['time', 'time2'], inplace=True)"
   ]
  },
  {
   "cell_type": "markdown",
   "metadata": {},
   "source": [
    "Στη συνέχεια ξεκινάμε την λογιστική παλινδρόμιση και κατασκεύαζουμε τα πρώτα τρία μοντέλα. Για τον συγκεκριμένο τύπο παλινδρόμισης χρησιμοποιούμε την δυαδική μεταβλητή dumrepression."
   ]
  },
  {
   "cell_type": "code",
   "execution_count": null,
   "metadata": {},
   "outputs": [],
   "source": [
    "#Model 1\n",
    "repression1 = smf.logit('dumrepression ~ hostcity * time + '\n",
    "                        'hostcity * time2 + '\n",
    "                        'hostcity + '\n",
    "                        'time + '\n",
    "                        'time2'\n",
    "                        , data=data)\n",
    "repression1_res = repression1.fit(cov_type='HC1')\n",
    "wald_x2_1 = repression1_res.wald_test(['hostcity:time', 'hostcity:time2', 'hostcity', 'time', 'time2'], scalar=True)\n",
    "#Model 2\n",
    "repression2 = smf.logit('dumrepression ~ hostcity * time + '\n",
    "                        'hostcity * time2 + '\n",
    "                        'hostcity + '\n",
    "                        'time + '\n",
    "                        'time2 + '\n",
    "                        'lnpop_1970 + '\n",
    "                        'literacy_avg + '\n",
    "                        'vote_frejuli + '\n",
    "                        'lnrebact1974 + '\n",
    "                        'lnrepression70_77'\n",
    "                        , data=data)\n",
    "repression2_res = repression2.fit(cov_type='HC1')\n",
    "wald_x2_2 = repression2_res.wald_test(['hostcity:time', 'hostcity:time2', 'hostcity', 'time', 'time2',\n",
    "                                       'lnpop_1970', 'literacy_avg', 'vote_frejuli', 'lnrebact1974', 'lnrepression70_77'], scalar=True)\n",
    "#Model 3\n",
    "repression3 = smf.logit('dumrepression ~ hostcity * time + '\n",
    "                        'hostcity * time2 + '\n",
    "                        'hostcity + '\n",
    "                        'time + '\n",
    "                        'time2 + '\n",
    "                        'lnpop_1970 + '\n",
    "                        'literacy_avg + '\n",
    "                        'vote_frejuli + '\n",
    "                        'lnrebact1974 + '\n",
    "                        'lnrepression70_77 + '\n",
    "                        'zone2 + '\n",
    "                        'zone3 + '\n",
    "                        'zone4 + '\n",
    "                        'zone5'\n",
    "                        , data=data)\n",
    "repression3_res = repression3.fit(cov_type='HC1')\n",
    "wald_x2_3 = repression3_res.wald_test(['hostcity:time', 'hostcity:time2', 'hostcity', 'time', 'time2',\n",
    "                                       'lnpop_1970', 'literacy_avg', 'vote_frejuli', 'lnrebact1974',\n",
    "                                       'lnrepression70_77', 'zone2', 'zone3', 'zone4', 'zone5'], scalar=True)"
   ]
  },
  {
   "cell_type": "markdown",
   "metadata": {},
   "source": [
    "Επαναλλαμβάνουμε την διαδικασία, αυτή τη φορά με την μέθοδο OLS, ώστε να συγκρίνουμε τα αποστελέσματα."
   ]
  },
  {
   "cell_type": "code",
   "execution_count": null,
   "metadata": {},
   "outputs": [],
   "source": [
    "#Model 4\n",
    "repression4 = smf.ols('dumrepression ~ hostcity * time + '\n",
    "                      'hostcity * time2 + '\n",
    "                      'hostcity + '\n",
    "                      'time + '\n",
    "                      'time2'\n",
    "                      , data=data)\n",
    "repression4_res = repression4.fit(cov_type='HC1')\n",
    "#Model 5\n",
    "repression5 = smf.ols('dumrepression ~ hostcity * time + '\n",
    "                      'hostcity * time2 + '\n",
    "                      'hostcity + '\n",
    "                      'time + '\n",
    "                      'time2 + '\n",
    "                      'lnpop_1970 + '\n",
    "                      'literacy_avg + '\n",
    "                      'vote_frejuli + '\n",
    "                      'lnrebact1974 + '\n",
    "                      'lnrepression70_77'\n",
    "                      , data=data)\n",
    "repression5_res = repression5.fit(cov_type='HC1')\n",
    "#Model 6\n",
    "repression6 = smf.ols('dumrepression ~ hostcity * time + '\n",
    "                      'hostcity * time2 + '\n",
    "                      'hostcity + '\n",
    "                      'time + '\n",
    "                      'time2 + '\n",
    "                      'lnpop_1970 + '\n",
    "                      'literacy_avg + '\n",
    "                      'vote_frejuli + '\n",
    "                      'lnrebact1974 + '\n",
    "                      'lnrepression70_77 + '\n",
    "                      'zone2 + '\n",
    "                      'zone3 + '\n",
    "                      'zone4 + '\n",
    "                      'zone5'\n",
    "                      , data=data)\n",
    "repression6_res = repression6.fit(cov_type='HC1')"
   ]
  },
  {
   "cell_type": "markdown",
   "metadata": {},
   "source": [
    "Τέλος, εμφανίζουμε τον εννιαίο πίνακα."
   ]
  },
  {
   "cell_type": "code",
   "execution_count": null,
   "metadata": {},
   "outputs": [],
   "source": [
    "stargazer = Stargazer([repression1_res, repression2_res, repression3_res, repression4_res, repression5_res, repression6_res])\n",
    "stargazer.covariate_order(['hostcity:time', 'hostcity:time2', 'hostcity', 'time', 'time2', 'Intercept'])\n",
    "stargazer.rename_covariates({'Intercept': 'Constant',\n",
    "                             'hostcity': 'Host City',\n",
    "                             'hostcity:time': 'Host City * Time',\n",
    "                             'hostcity:time2': 'Host City * Time<sup>2</sup>',\n",
    "                             'time': 'Time',\n",
    "                             'time2': 'Time<sup>2</sup>'})\n",
    "stargazer.custom_columns(['Logit', 'OLS'], [3, 3])\n",
    "stargazer.add_line('Wald x<sup>2</sup>', [str(round(wald_x2_1.statistic, 2)) + '<sup>***</sup>', \n",
    "                                          str(round(wald_x2_2.statistic, 2)) + '<sup>***</sup>', \n",
    "                                          str(round(wald_x2_3.statistic, 2)) + '<sup>***</sup>', '', '', '']\n",
    "                  , LineLocation.FOOTER_TOP)\n",
    "stargazer.add_line('Controls', ['No', 'Yes', 'Yes', 'No', 'Yes', 'Yes'])\n",
    "stargazer.add_line('Zone FE', ['No', 'No', 'Yes', 'No', 'No', 'Yes'])\n",
    "display(HTML(stargazer.render_html()))"
   ]
  },
  {
   "cell_type": "markdown",
   "metadata": {},
   "source": [
    "## Question 5"
   ]
  },
  {
   "cell_type": "markdown",
   "metadata": {},
   "source": [
    "### SI.4.7"
   ]
  },
  {
   "cell_type": "markdown",
   "metadata": {},
   "source": [
    "Αρχικά διαβάζουμε τα δεδομένα μας. Επειδή θέλουμε να ασχοληθούμε μόνο με τα μοντέλα που χρησιμοποιούνε απλό ταίριασμα, τα επιλέγουμε με την μεταβλητή matched_simple."
   ]
  },
  {
   "cell_type": "code",
   "execution_count": null,
   "metadata": {},
   "outputs": [],
   "source": [
    "data = pd.read_table('main_data.tab',\n",
    "                     usecols=['lnrepression',\n",
    "                              'repression',\n",
    "                              'hostcity',\n",
    "                              'time',\n",
    "                              'time2',\n",
    "                              'lnpop_1970',\n",
    "                              'literacy_avg',\n",
    "                              'vote_frejuli',\n",
    "                              'lnrebact1974',\n",
    "                              'lnrepression70_77',\n",
    "                              'zone1',\n",
    "                              'zone2',\n",
    "                              'zone3',\n",
    "                              'zone4',\n",
    "                              'zone5',\n",
    "                              'matched_simple',\n",
    "                              'date'\n",
    "                              ],\n",
    "                     header=0,\n",
    "                     parse_dates=['date'])\n",
    "data.dropna(subset=['time', 'time2'], inplace=True)\n",
    "data = data[data['matched_simple'] == 1]"
   ]
  },
  {
   "cell_type": "markdown",
   "metadata": {},
   "source": [
    "Στη συνέχεια δημιουργούμε τα μοντέλα πρόβλεψης με την μέθοδο OLS."
   ]
  },
  {
   "cell_type": "code",
   "execution_count": null,
   "metadata": {},
   "outputs": [],
   "source": [
    "#Model 1\n",
    "repression1 = smf.ols('lnrepression ~ hostcity * time + '\n",
    "                      'hostcity * time2 + '\n",
    "                      'hostcity + '\n",
    "                      'time + '\n",
    "                      'time2'\n",
    "                      , data=data)\n",
    "repression1_res = repression1.fit(cov_type='HC1')\n",
    "#Model 2\n",
    "repression2 = smf.ols('lnrepression ~ hostcity * time + '\n",
    "                      'hostcity * time2 + '\n",
    "                      'hostcity + '\n",
    "                      'time + '\n",
    "                      'time2 + '\n",
    "                      'lnpop_1970 + '\n",
    "                      'literacy_avg + '\n",
    "                      'vote_frejuli + '\n",
    "                      'lnrebact1974 + '\n",
    "                      'lnrepression70_77'\n",
    "                      , data=data)\n",
    "repression2_res = repression2.fit(cov_type='HC1')\n",
    "#Model 3\n",
    "repression3 = smf.ols('lnrepression ~ hostcity * time + '\n",
    "                      'hostcity * time2 + '\n",
    "                      'hostcity + '\n",
    "                      'time + '\n",
    "                      'time2 + '\n",
    "                      'lnpop_1970 + '\n",
    "                      'literacy_avg + '\n",
    "                      'vote_frejuli + '\n",
    "                      'lnrebact1974 + '\n",
    "                      'lnrepression70_77 + '\n",
    "                      'zone2 + '\n",
    "                      'zone3 + '\n",
    "                      'zone4 + '\n",
    "                      'zone5'\n",
    "                      , data=data)\n",
    "repression3_res = repression3.fit(cov_type='HC1')\n",
    "data['predicted'] = repression3_res.predict(data.loc[:, ['hostcity',\n",
    "                                                           'time',\n",
    "                                                           'time2',\n",
    "                                                           'lnpop_1970',\n",
    "                                                           'literacy_avg',\n",
    "                                                           'vote_frejuli',\n",
    "                                                           'lnrebact1974',\n",
    "                                                           'lnrepression70_77',\n",
    "                                                           'zone2',\n",
    "                                                           'zone3',\n",
    "                                                           'zone4',\n",
    "                                                           'zone5']])"
   ]
  },
  {
   "cell_type": "markdown",
   "metadata": {},
   "source": [
    "Τέλος, εμφανίζουμε τον πίνακα SI.4.7 με τη μορφή που θέλουμε."
   ]
  },
  {
   "cell_type": "code",
   "execution_count": null,
   "metadata": {},
   "outputs": [],
   "source": [
    "stargazer = Stargazer([repression1_res, repression2_res, repression3_res])\n",
    "stargazer.covariate_order(['hostcity:time', 'hostcity:time2', 'hostcity', 'time', 'time2', 'Intercept'])\n",
    "stargazer.rename_covariates({'Intercept': 'Constant',\n",
    "                             'hostcity': 'Host City',\n",
    "                             'hostcity:time': 'Host City * Time',\n",
    "                             'hostcity:time2': 'Host City * Time<sup>2</sup>',\n",
    "                             'time': 'Time',\n",
    "                             'time2': 'Time<sup>2</sup>'})\n",
    "stargazer.add_line('Controls', ['No', 'Yes', 'Yes'])\n",
    "stargazer.add_line('Zone FE', ['No', 'No', 'Yes'])\n",
    "display(HTML(stargazer.render_html()))"
   ]
  },
  {
   "cell_type": "markdown",
   "metadata": {},
   "source": [
    "### Figure 6"
   ]
  },
  {
   "cell_type": "markdown",
   "metadata": {},
   "source": [
    "Δημιουργούμε το διάγραμμα που περιέχει τις προβλέψεις του μοντέλου (3)."
   ]
  },
  {
   "cell_type": "code",
   "execution_count": null,
   "metadata": {},
   "outputs": [],
   "source": [
    "fig, axs = plt.subplots(figsize=(7, 5))\n",
    "_ = sns.lineplot(data=data[data['hostcity'] == 1], x='date', y='predicted', color='black', err_kws={'alpha': 1, 'fc': '#858585', 'ec': '#858585'}, ax=axs)\n",
    "_ = sns.lineplot(data=data[data['hostcity'] == 0], x='date', y='predicted', err_kws={'fc': '#b6b6b6', 'alpha': 1, 'ec': '#b6b6b6'}, color='black', ax=axs)\n",
    "\n",
    "axs.lines[1].set_linestyle(\"--\")\n",
    "plt.axvspan(ticks[3], ticks[4], color='#f2f2f2', ec=None, zorder=0)\n",
    "plt.xticks(ticks=ticks, labels=labels)\n",
    "plt.annotate(text='World Cup', xy=(np.datetime64('1978-06-06'), 0.24))\n",
    "axs.set_xlabel('')\n",
    "axs.set_ylabel('Predicted number of daily repression events')\n",
    "axs.set_xlim(ticks[0], ticks[-1])\n",
    "plt.tight_layout()\n",
    "plt.show()"
   ]
  },
  {
   "cell_type": "markdown",
   "metadata": {},
   "source": [
    "### Interpretation"
   ]
  },
  {
   "cell_type": "markdown",
   "metadata": {},
   "source": [
    "Παρατηρούμε πως χρησιμοποιώντας matched samples οι δύο καμπύλες έχουν πολύ πιο κοντινές τιμές από το Figure 5. Επιπλέον, το διάστημα εμπιστοσύνης των καμπυλών είναι πολύ μεγαλύτερο. Αυτό κάνει τις δύο καμπύλες πιο συγκρίσιμες. Παρόλες τις αλλαγές, το σχήμα των καμπυλών παραμένει το ίδιο. Επομένος, τα αποτελέσματά μας έχουν σημαντική αντοχή στις αλλαγές και επιβεβαιώνουν τα αποτελέσματά μας στα robustness checks.Αυτό είναι μία ακόμα απόδειξη των υποθέσεων που κάναμε στο ερώτημα 2. Το repression στις πόλεις που διεξάγονται αθλητικά τουρνουά ανεβαίνει πριν την διεξαγωγή του τουρνουά, ενώ στις υπόλοιπες πόλεις παραμένει σε σταθερά επίπεδα. Κατά τη διάρκεια του τουρνουά, τα repression events μειώνονται στην πόλη διεξαγωγής, ενώ μένουν σταθερά στις υπόλοιπες πόλεις."
   ]
  }
 ],
 "metadata": {
  "kernelspec": {
   "display_name": "Python 3",
   "language": "python",
   "name": "python3"
  },
  "language_info": {
   "codemirror_mode": {
    "name": "ipython",
    "version": 3
   },
   "file_extension": ".py",
   "mimetype": "text/x-python",
   "name": "python",
   "nbconvert_exporter": "python",
   "pygments_lexer": "ipython3",
   "version": "3.8.5"
  }
 },
 "nbformat": 4,
 "nbformat_minor": 4
}
