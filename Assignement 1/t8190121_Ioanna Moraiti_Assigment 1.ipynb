{
 "cells": [
  {
   "cell_type": "markdown",
   "metadata": {},
   "source": [
    "# Assignment: Economic Connectedness"
   ]
  },
  {
   "cell_type": "markdown",
   "metadata": {},
   "source": [
    ">Ioanna Moraiti <br />\n",
    ">AM: 8190121 <br />\n",
    ">Email: t8190121@aueb.gr"
   ]
  },
  {
   "cell_type": "markdown",
   "metadata": {},
   "source": [
    "Η εργασία βασίζεται στα δύο paper του περιοδικού Nature:\n",
    "* https://doi.org/10.1038/s41586-022-04996-4\n",
    "* https://doi.org/10.1038/s41586-022-04997-3"
   ]
  },
  {
   "cell_type": "markdown",
   "metadata": {},
   "source": [
    "Για την δημιουργία των παρακάτω διαγραμμάτων χρησιμοποίησα τα module της python pandas, matplotlib, numpy, plotly, \n",
    "geopandas, seaborn και plotnine. Επομένως είναι απαραίτητη η εγκατάσταση των εκάστοτε πακέτων.\n",
    "Τα δεδομένα που χρησιμοποιήθηκαν προέρχονται από τον [Social Capital Atlas Datasets](https://data.humdata.org/dataset/social-capital-atlas) και το [Replication Package](https://dataverse.harvard.edu/dataset.xhtml?persistentId=doi:10.7910/DVN/NKCQM1) του [Opportunity Atlas](https://www.nber.org/papers/w25147)."
   ]
  },
  {
   "cell_type": "markdown",
   "metadata": {},
   "source": [
    "## Question 1"
   ]
  },
  {
   "cell_type": "markdown",
   "metadata": {},
   "source": [
    "Το πρώτο ερώτημα αφορούσε την αντιγραφή του [2ου Διαγράμματος του 1ου paper](https://www.nature.com/articles/s41586-022-04996-4/figures/2). Ξεκινώντας κάνω τα απαραίτητα imports."
   ]
  },
  {
   "cell_type": "code",
   "execution_count": null,
   "metadata": {},
   "outputs": [],
   "source": [
    "import pandas as pd\n",
    "import plotly.express as px\n",
    "from urllib.request import urlopen\n",
    "import numpy as np\n",
    "import json\n",
    "with urlopen('https://raw.githubusercontent.com/plotly/datasets/master/geojson-counties-fips.json') as response:\n",
    "    counties = json.load(response)"
   ]
  },
  {
   "cell_type": "markdown",
   "metadata": {},
   "source": [
    "Το json περιέχει γεωγραφικά στοιχεία των ΗΠΑ τα οποία θα χρησιμοποιηθού από την βιβλιοθήκη express της plotly για την δημιουργία του χάρτη. \n",
    "\n",
    "Διαβάζω τα απαραίτητα datasets. Αποθηκεύω τον κωδικό των κομμητιών ως string προκειμένου στη συνέχεια να μπορώ να επεξεργαστώ πλήρως την μορφή του. Στον δείκτη economic connectedness των κομμητιών χρησιμοποιώ μία συνάρτηση στρογγυλοποίησης ώστε να μπορώ να πετύχω το ίδιο αποτέλεσμα που ζητείται στο ερώτημα."
   ]
  },
  {
   "cell_type": "code",
   "execution_count": null,
   "metadata": {},
   "outputs": [],
   "source": [
    "sc_counties = pd.read_csv(\"social_capital_county.csv\", dtype={'county': str})\n",
    "sc_counties['ec_county'] = sc_counties['ec_county'].apply(lambda x: round(x, 2))"
   ]
  },
  {
   "cell_type": "markdown",
   "metadata": {},
   "source": [
    "Αφού έχω διαβάσει τα δεδομένα μου, επεξεργάζομαι την μορφή των κωδικών των κωμμητιών ώστε να είναι προσαρμοσμένοι με τα πρότυπα \n",
    "[FIPS](https://transition.fcc.gov/oet/info/maps/census/fips/fips.txt)."
   ]
  },
  {
   "cell_type": "code",
   "execution_count": null,
   "metadata": {},
   "outputs": [],
   "source": [
    "sc_counties['county'] = sc_counties['county'].apply(lambda x: '0' + x if len(x) == 4 else x)\n",
    "fips = sc_counties['county']"
   ]
  },
  {
   "cell_type": "markdown",
   "metadata": {},
   "source": [
    "Για την εμφάνιση διακριτών χρωμάτων στον χάρτι βάζω τα δεδομένα μου σε bins, σε μορφή όπως αναγράφονται στον πίνακα labels. Για να συμπεριληφθούν και οι τιμές NaN, τους αναθέτω μία άκυρη τιμή. Συγκεκριμένα εδώ τους αναθέτω την τιμή -9 και προσθέτων ένα διάστημα (-10, 0] για όλες τις NaN τιμές. Στη συνέχεια, για την σωστή αναπαράστασή τους στο διάγραμμα τους αναθέτω ως τιμή το string ΝΑ."
   ]
  },
  {
   "cell_type": "code",
   "execution_count": null,
   "metadata": {},
   "outputs": [],
   "source": [
    "values = pd.DataFrame({'ec': sc_counties['ec_county']})\n",
    "bins =  [-10, 0, 0.58, 0.67, 0.72, 0.76, 0.81, 0.85, 0.9, 0.97, 1.06, 100]\n",
    "labels= ['NA', '<0.58', '0.58-0.67', '0.67-0.72', '0.72-0.76', '0.76-0.81', \n",
    "         '0.81-0.85', '0.85-0.90', '0.90-0.97', '0.97-1.06', '>1.06']\n",
    "fip_values = pd.DataFrame({'fips': fips, \n",
    "                           'ec':values['ec'], \n",
    "                           'name': sc_counties['county_name']})\n",
    "fip_values['ec'].fillna(value=-9, inplace=True)\n",
    "fip_values['bins'] = pd.cut(fip_values['ec'],\n",
    "                            bins=bins,\n",
    "                            labels=labels,\n",
    "                            include_lowest=False,\n",
    "                            right=True)\n",
    "fip_values['ec'] = fip_values['ec'].apply(lambda x: 'NA' if x == -9 else x)"
   ]
  },
  {
   "cell_type": "markdown",
   "metadata": {},
   "source": [
    "Αφού έχω τα δεδομένα μου στην μορφή που χρειάζεται για τη δημιουργία του διαγράμματος, ξεκινάω να φτιάχνω το διάγραμμα. Αρχικά θα φτιάξω έναν πίνακα με τους hex κωδικούς των χρωμάτων που θα χρησιμοποιήσω"
   ]
  },
  {
   "cell_type": "code",
   "execution_count": null,
   "metadata": {},
   "outputs": [],
   "source": [
    "colorscale = ['#ffd700', '#b2182b', '#d6604d', '#f4a582', '#fddbc7', '#f7f7f7', '#d1e5f0', '#92c5de', '#4393c3', '#2166ac', '#053061']"
   ]
  },
  {
   "cell_type": "markdown",
   "metadata": {},
   "source": [
    "Για τη δημιουργία του χάρτι χρησιμοποιώ τη βιβλιοθήση express της plotly και συγκεκριμένα την συνάρτηση [express.choropleth_mapbox](https://plotly.github.io/plotly.py-docs/generated/plotly.express.choropleth_mapbox.html). Χρησιμοποιείται, όπως αναφέρθηκε και πιο πριν, το json αρχείο με τα γεωγραφικά στοιχεία. Το χρώμα των χωρών σχετίζεται με το σχετικό bin της economic connectedness."
   ]
  },
  {
   "cell_type": "code",
   "execution_count": null,
   "metadata": {},
   "outputs": [],
   "source": [
    "fig = px.choropleth_mapbox(fip_values,\n",
    "                           geojson=counties,\n",
    "                           locations='fips',\n",
    "                           color='bins',\n",
    "                           mapbox_style='white-bg',\n",
    "                           zoom=3,\n",
    "                           center={\"lat\": 37.0902, \"lon\": -95.7129},\n",
    "                           labels={'ec': 'economic connectedness', \n",
    "                                   'fips': 'county'},\n",
    "                           hover_name='name',\n",
    "                           hover_data={'fips': True, \n",
    "                                       'ec': True, \n",
    "                                       'bins': False},\n",
    "                           color_discrete_sequence=colorscale,\n",
    "                           category_orders={'bins': labels}\n",
    "                           )"
   ]
  },
  {
   "cell_type": "markdown",
   "metadata": {},
   "source": [
    "Τέλος, κάνω κάποιες μικρές αλλαγές στο legend του διαγράμματος και το εμφανίζω."
   ]
  },
  {
   "cell_type": "code",
   "execution_count": null,
   "metadata": {},
   "outputs": [],
   "source": [
    "fig.update_layout(margin={\"r\":0,\"t\":0,\"l\":0,\"b\":0}, legend={'title': 'Economic Connectedness'}, legend_traceorder=\"reversed\")\n",
    "fig.show()"
   ]
  },
  {
   "cell_type": "markdown",
   "metadata": {},
   "source": [
    "## Question 2"
   ]
  },
  {
   "cell_type": "markdown",
   "metadata": {},
   "source": [
    "Στο δεύτερο ερώτημα απαιτείται η αντιγραφή του [4ου διαγράμματος του 1ου paper](nature.com/articles/s41586-022-04996-4/figures/4). Για το συγκεκριμένο διάγραμμα θα χρησιμοποιήσω την βιβλιοθήκη seaborn."
   ]
  },
  {
   "cell_type": "code",
   "execution_count": null,
   "metadata": {},
   "outputs": [],
   "source": [
    "import seaborn as sb\n",
    "import matplotlib.pyplot as plt"
   ]
  },
  {
   "cell_type": "markdown",
   "metadata": {},
   "source": [
    "Στον δείκτη upward mobility αντιστοιχεί η μεταβλητή kfr_pooled_pooled_p25, που δείχνει για τα άτομα όλων των εθνικοτήτων που ανήκαν στο 25ο percentile την τωρινή εισοδηματική τους κατάταξη. Πριν ξεκινήσω την επεξεργασία των δεδομένων, φέρνω τους κωδικού των κομμητιών στην κατάλληλη μορφή."
   ]
  },
  {
   "cell_type": "code",
   "execution_count": null,
   "metadata": {},
   "outputs": [],
   "source": [
    "pooled_df = pd.read_csv('county_outcomes_simple.csv',\n",
    "                        usecols=['state', 'county', 'kfr_pooled_pooled_p25'],\n",
    "                        dtype={'state': str, \n",
    "                               'county': str, \n",
    "                               'kfr_pooled_pooled_p25': float, \n",
    "                               'kfr_pooled_pooled_p25_se': float})\n",
    "pooled_df['state'] = pooled_df['state'].apply(lambda x: '0' + x if len(x) == 1 else x)\n",
    "pooled_df['county'] = pooled_df['county'].apply(lambda x: '0' + x if len(x) == 2 else ('00' + x if len(x) == 1 else x))\n",
    "pooled_df['fips'] = pooled_df['state'] + pooled_df['county']\n",
    "pooled_df.drop(columns=['state', 'county'], inplace=True)"
   ]
  },
  {
   "cell_type": "markdown",
   "metadata": {},
   "source": [
    "Το ίδιο κάνω και στα δεδομένα που περιέχουν τον δείκτη economic connectedness."
   ]
  },
  {
   "cell_type": "code",
   "execution_count": null,
   "metadata": {},
   "outputs": [],
   "source": [
    "sc_counties = pd.read_csv(\"social_capital_county.csv\", \n",
    "                          dtype={'county': str},\n",
    "                          usecols=['county', \n",
    "                                   'county_name', \n",
    "                                   'ec_county'])\n",
    "sc_counties['fips'] = sc_counties['county'].apply(lambda x: '0' + x if len(x) == 4 else x)\n",
    "sc_counties.drop(columns=['county'], inplace=True)"
   ]
  },
  {
   "cell_type": "markdown",
   "metadata": {},
   "source": [
    "Για την εύρεση του πληθυσμού χρησιμοποιώ ένα dataset με δημογραφικά στοιχεία των ΗΠΑ που μπορεί να βρεθεί [εδώ](https://simplemaps.com/data/us-counties)."
   ]
  },
  {
   "cell_type": "code",
   "execution_count": null,
   "metadata": {},
   "outputs": [],
   "source": [
    "pop = pd.read_csv('uscounties.csv', \n",
    "                  usecols=['population', \n",
    "                           'county_fips'], \n",
    "                  dtype={'population': int, \n",
    "                         'county_fips': str})\n",
    "pop.rename(columns={'county_fips': 'fips'}, inplace=True)"
   ]
  },
  {
   "cell_type": "markdown",
   "metadata": {},
   "source": [
    "Στη συνέχεια κάνω merge τα dataframes με τον πληθυσμό και τον δείκτη economic connectedness, επιλέγω τις 200 πληθυσμιακά μεγαλύτερες κομμητίες και τα ενώνω όλα αυτά στo dataframe income_ec, μαζί με τον δείκτη upward mobility."
   ]
  },
  {
   "cell_type": "code",
   "execution_count": null,
   "metadata": {},
   "outputs": [],
   "source": [
    "sc_counties = pd.merge(left=sc_counties, right=pop, on='fips')\n",
    "sc_counties = sc_counties.sort_values(by='population', ascending=False).head(200)\n",
    "income_ec = pd.merge(left=sc_counties, right=pooled_df, on='fips')"
   ]
  },
  {
   "cell_type": "markdown",
   "metadata": {},
   "source": [
    "Για τη σωστή απεικόνιση των ονομάτων των πολιτειών και κομμητιών κάνω έναν διαχωρισμό του ονόματός τους."
   ]
  },
  {
   "cell_type": "code",
   "execution_count": null,
   "metadata": {},
   "outputs": [],
   "source": [
    "income_ec['county'] = income_ec['county_name'].str.split(pat=',', expand=True)[0]"
   ]
  },
  {
   "cell_type": "markdown",
   "metadata": {},
   "source": [
    "Ξεκινώντας την ζωγραφική των διαγραμμάτων, αρχικά ορίζω τα ασιθητικά στοιχεία. \n",
    "\n",
    "Δημιουργώ το βασικό μου διάγραμμα το οποίο είναι ένα lmplot με άξονα $x$ τον δείκτη economic connectedness και άξονα $y$ τον δείκτη upward mobility για τα άτομα που άνοικαν στο 25ο percentile. \n",
    "\n",
    "Στο εν λόγο διάγραμμα πρέπει να δείξουμε και τα σημεία που αντιστοιχούν στις πόλεις San Francisco, Salt Lake City, New York, Indianapolis και Minneapolis. Για να δείξουμε αυτές τις πόλεις δείχνουμε τις κομμητίες στις οποίες ανοίκουν και με την συνάρτηση annotate της plotly προσθέτουμε ταμπέλες και βελάκια στα αντίστοιχα σημεία."
   ]
  },
  {
   "cell_type": "code",
   "execution_count": null,
   "metadata": {
    "scrolled": true
   },
   "outputs": [],
   "source": [
    "#Aesthetics\n",
    "sb.set(style=\"darkgrid\")\n",
    "sb.set_palette(palette='tab10', n_colors=1, color_codes='b')\n",
    "\n",
    "#Main graph\n",
    "_ = sb.lmplot(x='ec_county',\n",
    "              y='kfr_pooled_pooled_p25',\n",
    "              data=income_ec,\n",
    "              scatter=True,\n",
    "              fit_reg=True)\n",
    "_.set_axis_labels('Economic Connectedness', \n",
    "                  'Predicted Household Income Rank\\n For Children with Parents at 25th Income Percentile')\n",
    "_.fig.set_figwidth(8)\n",
    "_.fig.set_figheight(3)\n",
    "\n",
    "#Annotate cities\n",
    "san_francisco = income_ec[income_ec['county'] == 'San Francisco']\n",
    "plt.annotate(text='San Francisco',\n",
    "             xy=(san_francisco['ec_county'], san_francisco['kfr_pooled_pooled_p25']),\n",
    "             xytext=(san_francisco['ec_county'] - 0.14, san_francisco['kfr_pooled_pooled_p25'] - 0.07),\n",
    "             arrowprops=dict(shrink=0.07, facecolor='black', edgecolor='white', width=2))\n",
    "\n",
    "salt_lake_city = income_ec[(income_ec['county'] == 'Salt Lake')]\n",
    "plt.annotate(text='Salt Lake City',\n",
    "             xy=(salt_lake_city['ec_county'], salt_lake_city['kfr_pooled_pooled_p25']),\n",
    "             xytext=(salt_lake_city['ec_county'] - 0.04, salt_lake_city['kfr_pooled_pooled_p25'] + 0.05),\n",
    "             arrowprops=dict(shrink=0.07, facecolor='black', edgecolor='white', width=2))\n",
    "\n",
    "new_york_city = income_ec[(income_ec['county'] == 'New York')]\n",
    "plt.annotate(text='New York City',\n",
    "             xy=(new_york_city['ec_county'], new_york_city['kfr_pooled_pooled_p25']),\n",
    "             xytext=(new_york_city['ec_county'] - 0.25, new_york_city['kfr_pooled_pooled_p25'] + 0.06),\n",
    "             arrowprops=dict(shrink=0.07, facecolor='black', edgecolor='white', width=2))\n",
    "\n",
    "indianapolis = income_ec[(income_ec['county_name'] == 'Marion, Indiana')]\n",
    "plt.annotate(text='Indianapolis',\n",
    "             xy=(indianapolis['ec_county'], indianapolis['kfr_pooled_pooled_p25']),\n",
    "             xytext=(indianapolis['ec_county'] + 0.15, indianapolis['kfr_pooled_pooled_p25'] - 0.01),\n",
    "             arrowprops=dict(shrink=0.07, facecolor='black', edgecolor='white', width=2))\n",
    "\n",
    "minneapolis = income_ec[(income_ec['county_name'] == 'Hennepin, Minnesota')]\n",
    "plt.annotate(text='Minneapolis',\n",
    "             xy=(minneapolis['ec_county'], minneapolis['kfr_pooled_pooled_p25']),\n",
    "             xytext=(minneapolis['ec_county'] + 0.05, minneapolis['kfr_pooled_pooled_p25'] - 0.05),\n",
    "             arrowprops=dict(shrink=0.07, facecolor='black', edgecolor='white', width=2))\n",
    "plt.show()"
   ]
  },
  {
   "cell_type": "markdown",
   "metadata": {},
   "source": [
    "## Question 3"
   ]
  },
  {
   "cell_type": "markdown",
   "metadata": {},
   "source": [
    "Για το τρίτο ερώτημα θα φτίαξω το [6ο Διάγραμμα του 1ου paper](https://www.nature.com/articles/s41586-022-04996-4/figures/6). Ξεκινάω διαβάζοντας τα απαραίτητα αρχεία csv. Το αρχείο zip_ec περιέχει δείκτες economic connectedness για κάθε ZIP code των ΗΠΑ, ενώ το αρχείο zip_income περιέχει το μέσο εισόδημα ανά ZIP code και το upward economic mobility για άτομα που ανοίκουν στο 25ο percentile της εισοδηματικής κατάταξης."
   ]
  },
  {
   "cell_type": "code",
   "execution_count": null,
   "metadata": {},
   "outputs": [],
   "source": [
    "zip_ec = pd.read_csv('social_capital_zip.csv', \n",
    "                     usecols=['zip', 'ec_zip'])\n",
    "zip_income = pd.read_stata('zip_covariates.dta', \n",
    "                           columns=['zip', \n",
    "                                    'kfr_pooled_pooled_p25', \n",
    "                                    'med_inc_2018'])\n",
    "zip_income['kfr_pooled_pooled_p25'] = zip_income['kfr_pooled_pooled_p25'] * 100"
   ]
  },
  {
   "cell_type": "markdown",
   "metadata": {},
   "source": [
    "Θα κατατάξω τα δεδομένα εισοδήματος σε bins όπως αυτά που φαίνονται στο διάγραμμα."
   ]
  },
  {
   "cell_type": "code",
   "execution_count": null,
   "metadata": {},
   "outputs": [],
   "source": [
    "bins = [0, 38, 41, 44, 48, 100]\n",
    "labels = ['<38', '38 - 41', '41 - 44', '44 - 48', '>48']\n",
    "zip_income['bins'] = pd.cut(zip_income['kfr_pooled_pooled_p25'], \n",
    "                            bins=bins, \n",
    "                            retbins=True, \n",
    "                            labels=labels)[0]"
   ]
  },
  {
   "cell_type": "markdown",
   "metadata": {},
   "source": [
    "Στη συνέχεια ενώνω όλα τα δεδομένα σε ένα ενιαίο dataframe."
   ]
  },
  {
   "cell_type": "code",
   "execution_count": null,
   "metadata": {},
   "outputs": [],
   "source": [
    "zip_merged = pd.merge(zip_ec, zip_income, on='zip')"
   ]
  },
  {
   "cell_type": "markdown",
   "metadata": {},
   "source": [
    "Ορίζω τα χρώματα, το μέγεθος και την χρωματική παλέτα του διαγράμματος."
   ]
  },
  {
   "cell_type": "code",
   "execution_count": null,
   "metadata": {},
   "outputs": [],
   "source": [
    "sb.set(style=\"darkgrid\", rc={\"figure.figsize\":(9, 6)})\n",
    "colorpalette = ['#cd0000', '#ffa500', '#ffe4c4', '#009acd', '#191970']\n",
    "sb.set_palette(palette=colorpalette)"
   ]
  },
  {
   "cell_type": "markdown",
   "metadata": {},
   "source": [
    "Φτιάχνω ένα scatter plot με τα δεδομένα. Στον άξονα $x$ έχω το μέσο εισόδημα ανά ZIP code, στον άξονα $y$ έχω τον δείκτη economic connectedness, ενώ τα διαφορετικά χρώματα διαχωρίζουν τα διαφορετικά επίπεδα upwards economic mobility, σύμφωνα με τα bins που έχουν οριστεί πιο πάνω. Τέλος, κάνω κάποιες αλλαγές στο legend ώστε να μπει στη σωστή σειρά και να έχει τη μορφή που θέλω και εμφανίζω το διάγραμμα."
   ]
  },
  {
   "cell_type": "code",
   "execution_count": null,
   "metadata": {},
   "outputs": [],
   "source": [
    "_ = sb.scatterplot(data=zip_merged,\n",
    "                   x='med_inc_2018',\n",
    "                   y='ec_zip',\n",
    "                   hue='bins',\n",
    "                   hue_order=labels,\n",
    "                   alpha=0.7)\n",
    "_.set(xlabel='Median Household Income in ZIP Codes (US$)',\n",
    "      ylabel='Economic Connectedness',\n",
    "      xlim=(20000, 100000))\n",
    "_.set_xticks(range(30000, 110000, 10000))\n",
    "\n",
    "#Change legend\n",
    "handles, labels = plt.gca().get_legend_handles_labels()\n",
    "order = [4, 3, 2, 1, 0]\n",
    "plt.legend([handles[idx] for idx in order],[labels[idx] for idx in order], title='Upward Mobility', loc='lower right')\n",
    "plt.show()"
   ]
  },
  {
   "cell_type": "markdown",
   "metadata": {},
   "source": [
    "## Question 4"
   ]
  },
  {
   "cell_type": "markdown",
   "metadata": {},
   "source": [
    "Για το 4ο ερώτημα θα φτιάξω το [Διάγραμμα 5α του 2ου paper](https://www.nature.com/articles/s41586-022-04997-3/figures/5). Αυτή τη φορά θα χρησιμοποιήσω την βιβλιοθήκη plotnine. Για τη δημιουργία των ξεχωριστών labels θα πρέπει να εγκαταστήσω το πακέτο adjustText."
   ]
  },
  {
   "cell_type": "code",
   "execution_count": null,
   "metadata": {},
   "outputs": [],
   "source": [
    "from plotnine import *\n",
    "import adjustText"
   ]
  },
  {
   "cell_type": "markdown",
   "metadata": {},
   "source": [
    "Αποθηκεύω στο dataframe schools_ec τα στοιχεία των σχολείων, τον δείκτη economic connectedness για τους γονείς των παιδιών που φοιτούν στα σχολεία και τον δείκτη friending bias των μαθητών που ανοίκουν στο κάτω μισό της εισοδηματικής κλίμακας. Για να βρούμε το ποσοστό των γονιών που βρίσκονται στο άνω μισό της εισοδηματικής κλίμακας θα διαιρέσουμε τον δείκτη mean exposure to high parental SES διά 2. Τέλος, μετατρέπουμε τις τιμές σε ποσοστά."
   ]
  },
  {
   "cell_type": "code",
   "execution_count": null,
   "metadata": {},
   "outputs": [],
   "source": [
    "schools_ec = pd.read_csv('social_capital_high_school.csv', \n",
    "                         dtype={'high_school': str}, \n",
    "                         usecols=['high_school', \n",
    "                                  'high_school_name', \n",
    "                                  'ec_parent_ses_hs', \n",
    "                                  'bias_parent_ses_hs', \n",
    "                                  'exposure_parent_ses_hs'])\n",
    "schools_ec['high_parent_share'] = schools_ec['exposure_parent_ses_hs'] / 2 * 100\n",
    "schools_ec['bias_parent_ses_hs'] = schools_ec['bias_parent_ses_hs'].apply(lambda x: x * 100)"
   ]
  },
  {
   "cell_type": "markdown",
   "metadata": {},
   "source": [
    "Βρίσκουμε στο schools_ec τα συγκεκριμένα σχολεία που θέλουμε να ξεχωρίσουμε."
   ]
  },
  {
   "cell_type": "code",
   "execution_count": null,
   "metadata": {},
   "outputs": [],
   "source": [
    "schools_an = schools_ec[(schools_ec['high_school'] == '00941729') |\n",
    "                        (schools_ec['high_school'] == '060474000432') |\n",
    "                        (schools_ec['high_school'] == '170993000942') |\n",
    "                        (schools_ec['high_school'] == '170993001185') |\n",
    "                        (schools_ec['high_school'] == '170993003989') |\n",
    "                        (schools_ec['high_school'] == '171449001804') |\n",
    "                        (schools_ec['high_school'] == '250327000436') |\n",
    "                        (schools_ec['high_school'] == '360009101928') |\n",
    "                        (schools_ec['high_school'] == '370297001285') |\n",
    "                        (schools_ec['high_school'] == '483702004138') |\n",
    "                        (schools_ec['high_school'] == '250843001336') |\n",
    "                        (schools_ec['high_school'] == '062271003230') |\n",
    "                        (schools_ec['high_school'] == '010237000962') |\n",
    "                        (schools_ec['high_school'] == '00846981') |\n",
    "                        (schools_ec['high_school'] == '00852124')]"
   ]
  },
  {
   "cell_type": "markdown",
   "metadata": {},
   "source": [
    "Φτιάχνω ένα λεξικό για να ορίσω το style των labels που θέλω να έχει το διάγραμμά μου."
   ]
  },
  {
   "cell_type": "code",
   "execution_count": null,
   "metadata": {},
   "outputs": [],
   "source": [
    "adjust_text_dict = {\n",
    "    'expand_points': (2, 1.2),\n",
    "    'color': 'turquoise',\n",
    "    'arrowprops': {\n",
    "        'arrowstyle': '->',\n",
    "        'color': 'turquoise',\n",
    "        'lw': 1\n",
    "    }\n",
    "}"
   ]
  },
  {
   "cell_type": "markdown",
   "metadata": {},
   "source": [
    "Τέλος, φτιάχνω το διάγραμμά μου, όπου στον άξονα $x$ έχουμε το ποσοστό γονέων με υψηλό εισόδημα και στον άξονα $y$ το ποσοτό friending bias γονέων με χαμηλό εισόδημα."
   ]
  },
  {
   "cell_type": "code",
   "execution_count": null,
   "metadata": {},
   "outputs": [],
   "source": [
    "g = ggplot(data=schools_ec) +\\\n",
    "    geom_point(mapping=aes(x='high_parent_share', y='bias_parent_ses_hs'), \n",
    "               alpha=0.2) +\\\n",
    "    geom_point(data=schools_an, \n",
    "               mapping=aes(x='high_parent_share', y='bias_parent_ses_hs'), \n",
    "               colour='turquoise') +\\\n",
    "    scale_y_reverse() +\\\n",
    "    labs(x='Share of high-parental-SES students (%)', \n",
    "         y='Friending bias among low-parental-SES students(%)') +\\\n",
    "    geom_label(mapping=aes(label='high_school_name', \n",
    "                           x='high_parent_share', \n",
    "                           y='bias_parent_ses_hs'),\n",
    "               adjust_text=adjust_text_dict,\n",
    "               alpha=0.8,\n",
    "               data=schools_an) +\\\n",
    "    theme(figure_size=(12, 9))\n",
    "print(g)"
   ]
  },
  {
   "cell_type": "markdown",
   "metadata": {},
   "source": [
    "## Question 5"
   ]
  },
  {
   "cell_type": "markdown",
   "metadata": {},
   "source": [
    "Για το 5ο ερώτημα θα δημιουργήσω το [3ο Διάγραμμα του 2ου paper](https://www.nature.com/articles/s41586-022-04997-3/figures/9). Αρχικά διαβάζω τα δεδομένα που σχετίζονται με το friendship bias για κάθε κολλέγιο και για κάθε γειτονιά."
   ]
  },
  {
   "cell_type": "code",
   "execution_count": null,
   "metadata": {},
   "outputs": [],
   "source": [
    "#College\n",
    "college_bias = pd.read_csv('social_capital_college.csv', \n",
    "                           usecols=['college', \n",
    "                                    'mean_students_per_cohort', \n",
    "                                    'bias_own_ses_college'])\n",
    "#ZIP Codes\n",
    "zip_bias = pd.read_csv('social_capital_zip.csv', \n",
    "                       usecols=['zip', \n",
    "                                'nbhd_bias_zip', \n",
    "                                'num_below_p50'])"
   ]
  },
  {
   "cell_type": "markdown",
   "metadata": {},
   "source": [
    "Στη συνέχεια διαβάζω τα δεδομένα που σχετίζονται με τις εθνικότητες στα δύο group. Για τον υπολογισμό των λευκών φοιτητών στα κολλέγια αφαιρώ από τους συνολικούς φοιτητές τα μερήδια των υπόλοιπων εθνικοτήτων."
   ]
  },
  {
   "cell_type": "code",
   "execution_count": null,
   "metadata": {},
   "outputs": [],
   "source": [
    "#College\n",
    "college_race = pd.read_stata('college_characteristics.dta', \n",
    "                             columns=['college', \n",
    "                                      'zip', \n",
    "                                      'asian_or_pacific_share_fall_2000', \n",
    "                                      'black_share_fall_2000', \n",
    "                                      'hisp_share_fall_2000'])\n",
    "college_race['share_white'] = 1 - college_race['asian_or_pacific_share_fall_2000'] - college_race['black_share_fall_2000'] - college_race['hisp_share_fall_2000']\n",
    "#ZIP Codes\n",
    "zip_race = pd.read_stata('zip_covariates.dta', \n",
    "                         columns=['zip', \n",
    "                                  'share_white_2018', \n",
    "                                  'share_black_2018', \n",
    "                                  'share_natam_2018', \n",
    "                                  'share_asian_2018', \n",
    "                                  'share_hawaii_2018', \n",
    "                                  'share_hispanic_2018'])"
   ]
  },
  {
   "cell_type": "markdown",
   "metadata": {},
   "source": [
    "Υπολογίζω τον δείκτη diversity σύμφωνα με τον δείκτη [Herfindahl-Hirschman Index (HHI)](https://en.wikipedia.org/wiki/Herfindahl%E2%80%93Hirschman_index)."
   ]
  },
  {
   "cell_type": "code",
   "execution_count": null,
   "metadata": {},
   "outputs": [],
   "source": [
    "#College\n",
    "college_race = college_race.assign(diversity=lambda x: 1 \n",
    "                                                       - ((x['asian_or_pacific_share_fall_2000']) ** 2 + \n",
    "                                                          (x['black_share_fall_2000']) ** 2 + \n",
    "                                                          (x['hisp_share_fall_2000']) ** 2 + \n",
    "                                                          (x['share_white']) ** 2))\n",
    "#ZIP Codes\n",
    "zip_race = zip_race.assign(diversity=lambda x: 1 \n",
    "                                               - ((x['share_asian_2018']) ** 2 + \n",
    "                                                  (x['share_black_2018']) ** 2 + \n",
    "                                                  (x['share_hispanic_2018']) ** 2 + \n",
    "                                                  (x['share_white_2018']) ** 2 + \n",
    "                                                  (x['share_natam_2018']) ** 2 + \n",
    "                                                  (x['share_hawaii_2018']) ** 2))"
   ]
  },
  {
   "cell_type": "markdown",
   "metadata": {},
   "source": [
    "Αφού έχω υπολογίση την μετρική diversity, φτιάχνω 20 bins από το 0 έως το 0.7 και κατηγοριοποιώ τις σειρές των Dataframes σύμφωνα με αυτά."
   ]
  },
  {
   "cell_type": "code",
   "execution_count": null,
   "metadata": {},
   "outputs": [],
   "source": [
    "bins = np.linspace(0., 0.7, 20)\n",
    "zip_race['bins'] = pd.cut(zip_race['diversity'], \n",
    "                          bins=bins, \n",
    "                          labels=bins[1:])\n",
    "college_race['bins'] = pd.cut(college_race['diversity'], \n",
    "                              bins=bins, \n",
    "                              labels=bins[1:])"
   ]
  },
  {
   "cell_type": "markdown",
   "metadata": {},
   "source": [
    "Στη συνέχεια ενώνω τα dataframes που περιέχουν δεδομένα diversity με τα dataframes που περιέχουν δεδομένα για το friendship bias και ξεφορτώνομαι στήλες που δεν μου χρειάζονται πια. \n",
    "\n",
    "Μετά το merge φτιάχνω για τα δεδομένα κολλεγίων και τα δεδομένα γειτονιάς αντίστοιχα μία νέα στήλη (values) όπου θα χρησιμοποιηθεί μετά για τη δημιουργία του άξονα $x$ του διαγράμματος."
   ]
  },
  {
   "cell_type": "code",
   "execution_count": null,
   "metadata": {},
   "outputs": [],
   "source": [
    "#College\n",
    "college_data = pd.merge(college_race, college_bias, on='college').drop(columns=['asian_or_pacific_share_fall_2000', 'black_share_fall_2000', 'hisp_share_fall_2000', 'share_white'])\n",
    "college_data['value'] = college_data['mean_students_per_cohort'] * college_data['diversity']\n",
    "#ZIP Codes\n",
    "zip_data = pd.merge(zip_race, zip_bias, on='zip').drop(columns=['share_white_2018', 'share_black_2018', 'share_natam_2018', 'share_asian_2018', 'share_hawaii_2018', 'share_hispanic_2018'])\n",
    "zip_data['value'] = zip_data['num_below_p50'] * zip_data['diversity']"
   ]
  },
  {
   "cell_type": "markdown",
   "metadata": {},
   "source": [
    "Φτιάχνοντας το άξονα $x$, βρίσκουμε τον weighted μέσο όρο, όπως έχει οριστεί αυτός από την εκφώνηση. Για κάθε bin του δείκτη diversity αθροίζω όλες τις τιμές diversity που αντιστοιχούν στο συγκεκτιμένο bin, οι οποίες είναι πολλαπλασιασμένες με το weight που έχω ορίσει, και στο τέλος τις διαιρώ με το άθροισμα των weights για κάθε bin. Αποθηκεύω τα αποτελέσματα των πράξεων σε χωριστά dataframes, τα οποία θα έχουν μήκος μόλις 20 σειρές και προσθέτων μία στήλη (is) η οποία δείχνει κάθε φορά αν τα δεδομένα μας είναι δεδομένα κολλεγίου ή γειτονιάς. Μπορεί στο συγκεκριμένο βήμα η στήλη αυτή να φαίνεται περιττή, όμως θα χρησιμεύσει στην ενωποιήση όλων των δεδομένων και τον διαχωρισμό τους κατά τη δημουργεία του διαγράμματος."
   ]
  },
  {
   "cell_type": "code",
   "execution_count": null,
   "metadata": {},
   "outputs": [],
   "source": [
    "#College\n",
    "x_college = college_data.groupby('bins').agg(sum=('value', 'sum'),\n",
    "                                             sump=('mean_students_per_cohort', 'sum'))\n",
    "x_college['x'] = x_college['sum'] / x_college['sump']\n",
    "x_college['is'] = 'College'\n",
    "#ZIP Codes\n",
    "x_zip= zip_data.groupby('bins').agg(sum=('value', 'sum'),\n",
    "                                    sump=('num_below_p50', 'sum'))\n",
    "x_zip['x'] = x_zip['sum'] / x_zip['sump']\n",
    "x_zip['is'] = 'Neighbourhood'"
   ]
  },
  {
   "cell_type": "markdown",
   "metadata": {},
   "source": [
    "Ο άξονας $y$ φτιάχνεται πολύ πιο απλά από τον $x$. Έχωντας ήδη κατατάξει τα δεδομένα μας σε bins, η εύρεση του μέσου όρου για κάθε bin είναι απλή."
   ]
  },
  {
   "cell_type": "code",
   "execution_count": null,
   "metadata": {},
   "outputs": [],
   "source": [
    "#College\n",
    "y_college = college_data.groupby('bins').agg(y=('bias_own_ses_college', 'mean'))\n",
    "#ZIP Codes\n",
    "y_zip = zip_data.groupby('bins').agg(y=('nbhd_bias_zip', 'mean'))"
   ]
  },
  {
   "cell_type": "markdown",
   "metadata": {},
   "source": [
    "Σαν τελευταίο βήμα πριν τη δημιουργία του διαγράμματος ενώνω όλα μου τα δεδομένα σε ένα ενιαίο dataframe (all_data) και πολλαπλασιάζω τις τιμές του άξονα $y$ με το 100 ώστε να μετατραπούν σε ποσοστά."
   ]
  },
  {
   "cell_type": "code",
   "execution_count": null,
   "metadata": {},
   "outputs": [],
   "source": [
    "all_data = pd.DataFrame(data={'x': pd.concat([x_college['x'], x_zip['x']]),\n",
    "                              'y': pd.concat([y_college['y'], y_zip['y']]),\n",
    "                              'is': pd.concat([x_college['is'], x_zip['is']])\n",
    "                              })\n",
    "all_data['y'] = all_data['y'] * 100\n",
    "all_data"
   ]
  },
  {
   "cell_type": "markdown",
   "metadata": {},
   "source": [
    "Με τη χρήση της βιβλιοθήκης seaborn φτιάχνω το διάγραμμά μου."
   ]
  },
  {
   "cell_type": "code",
   "execution_count": null,
   "metadata": {},
   "outputs": [],
   "source": [
    "sb.set(style=\"darkgrid\")\n",
    "sb.set_palette(palette='tab10', n_colors=2, color_codes=['b', 'o'])\n",
    "_ = sb.lmplot(data=all_data,\n",
    "              x='x',\n",
    "              y='y',\n",
    "              hue='is',\n",
    "              markers=['D', 'o'],\n",
    "              legend=False)\n",
    "_.set(xlabel='Racial Diversity (Herfindahl-Hirschman Index) in Group',\n",
    "      ylabel='Friending Bias among Low-SES Individuals (%)',\n",
    "      yticks=range(0, 25, 5))\n",
    "_.fig.set_figwidth(7)\n",
    "_.fig.set_figheight(4)\n",
    "plt.legend(loc='upper left', title='')\n",
    "plt.show()"
   ]
  }
 ],
 "metadata": {
  "kernelspec": {
   "display_name": "Python 3",
   "language": "python",
   "name": "python3"
  },
  "language_info": {
   "codemirror_mode": {
    "name": "ipython",
    "version": 3
   },
   "file_extension": ".py",
   "mimetype": "text/x-python",
   "name": "python",
   "nbconvert_exporter": "python",
   "pygments_lexer": "ipython3",
   "version": "3.8.5"
  }
 },
 "nbformat": 4,
 "nbformat_minor": 4
}
