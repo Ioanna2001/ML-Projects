{
 "cells": [
  {
   "cell_type": "markdown",
   "metadata": {},
   "source": [
    "# Assignment 3: Is Science Becoming Less Disruptive?"
   ]
  },
  {
   "cell_type": "markdown",
   "metadata": {},
   "source": [
    ">Ioanna Moraiti <br />\n",
    ">AM: 8190121 <br />\n",
    ">Email: t8190121@aueb.gr"
   ]
  },
  {
   "cell_type": "markdown",
   "metadata": {},
   "source": [
    "Για να υπολογιστεί κατά πόσο ένα ερευνητικό έργο καινοτομεί στον τομέα του μπορεί να υπολογιστεί ένας δείκτης σύμφωνα με το πόσα μετεγεννέστερα έργα έχουν αναφορά στο συγκεκριμένο paper. Ο δείκτης αυτός ονομάζεται CD Index και αν μετριέται σε διάστημα πέντε ετών CD5. Πάνω σε αυτόν τον δείκτη βασίστηκε και το [άρθρο στο περιοδικό Nature](https://www.nature.com/articles/s41586-022-05543-x) για να δείξει την αλλαγή στα επίπεδα καινοτομίας ανά τα χρόνια. Υπάρχει όμως τρόπος υπολογισμού αυτού του δείκτη άμεσα; Σκοπός αυτής της εργασίας είναι η δημιουργία μοντέλων μηχανικής μάθησης για τον υπολογισμό του δείκτη CD5 ανάλογα με τα διάφορα χαρακτηριστικά ενός paper."
   ]
  },
  {
   "cell_type": "markdown",
   "metadata": {},
   "source": [
    "## Data formatting"
   ]
  },
  {
   "cell_type": "markdown",
   "metadata": {},
   "source": [
    "* Αρχικά κάνουμε import όλες τις βιβλιοθήκες που θα χρησιμοποιήσουμε"
   ]
  },
  {
   "cell_type": "code",
   "execution_count": 1,
   "metadata": {},
   "outputs": [
    {
     "name": "stderr",
     "output_type": "stream",
     "text": [
      "C:\\Users\\Ioann\\anaconda3\\lib\\site-packages\\pandas\\core\\computation\\expressions.py:20: UserWarning: Pandas requires version '2.7.3' or newer of 'numexpr' (version '2.7.1' currently installed).\n",
      "  from pandas.core.computation.check import NUMEXPR_INSTALLED\n"
     ]
    }
   ],
   "source": [
    "import pandas as pd\n",
    "import numpy as np\n",
    "from sklearn.model_selection import train_test_split\n",
    "import tensorflow as tf\n",
    "from tensorflow import keras\n",
    "from tensorflow.keras import layers\n",
    "import matplotlib.pyplot as plt\n",
    "import re\n",
    "import string\n",
    "from sklearn.model_selection import train_test_split\n",
    "from sklearn.tree import DecisionTreeRegressor\n",
    "from sklearn import metrics\n",
    "from sklearn.model_selection import GridSearchCV\n",
    "from sklearn.model_selection import KFold\n",
    "import matplotlib.pyplot as plt\n",
    "import sqlite3"
   ]
  },
  {
   "cell_type": "markdown",
   "metadata": {},
   "source": [
    "* Παίρνουμε τα δεδομένα μας από τη βάση δεδομένων `publications_graph`. Επειδή ο πίνακας με τον δείκτη CD5 `cdindex` περιέχει πολλά παραπάνω στοιχεία από ότι οι υπόλοιποι πίνακες που συνδέονται με τον βασικό πίνακα `works` διαγράφουμε τα περιττά papers ώστε να επιταχύνουμε την διαδικασία\n",
    "* Στη συνέχεια διαβάζουμε τα στοιχεία και τα αποθηκεύουμε σε αντίστοιχα DataFrames ώστε να επιλεγούν τα τελικά features που θα χρησιμοποιήσουμε στο μοντέλο\n",
    "* Αφαιρούνται οι συγγραφείς και τα αντίστοιχα υδρίματα που εκπροσωπούν πολύ μικρό ποσοστό από papers. Συγκεκριμένα, επιλέχτηκαν συγγραφείς που έχουν δημοσιεύσει πάνω από 5 papers και τα υδρίματα που εκπροσωπούν πάνω από 5 συγγραφείς. Για αυτούς τους συγγραφείς και υδρίματα δημιουργούνται dummy στήλες\n",
    "* Στη συνέχεια υπολογίζεται ο μέσος όρος των χρονολογιών των references \n",
    "* Τέλος προστίθενται τα subjects. Κρατάμε τα subjects που χαρακτηρίζουν πάνω από 300 και λιγότερα από 2000 papers καθώς σε αυτά περιέχεται η πλειοψηφία. Τα υπόλοιπα θεωρούνται outliers και αφαιρούνται. Όπως και προηγουμένος, δημιουργούνται dummy στήλες\n",
    "\n",
    "Ενώνουμε όλα τα DataFrames στο τελικό DataFrame `works`. Σαν features στα μοντέλα μας θα χρησιμοποιηθούν οι επιλεγμένοι συγγραφείς, τα υδρίματά τους, ο μέσος όρος χρονολογίας των references, το αντικείμενο κάθε paper, το abstract, ο τίτλος και τα διάφορα στοιχεία που σχετίζονται με τη χρονολογία που εκδόθηκε."
   ]
  },
  {
   "cell_type": "code",
   "execution_count": 2,
   "metadata": {},
   "outputs": [
    {
     "name": "stdout",
     "output_type": "stream",
     "text": [
      "DB Init\n",
      "SQLite Connection closed\n"
     ]
    }
   ],
   "source": [
    "try:\n",
    "\n",
    "    # Connect to DB and create a cursor\n",
    "    sqliteConnection = sqlite3.connect('publications_graph.db')\n",
    "    print('DB Init')\n",
    "\n",
    "    # Create a cursor object\n",
    "    cursor = sqliteConnection.cursor()\n",
    "\n",
    "    # Execute a DELETE statement\n",
    "    cursor.execute('DELETE FROM cdindex WHERE cdindex.doi NOT IN (SELECT doi FROM works)')\n",
    "    sqliteConnection.commit()\n",
    "\n",
    "    # Write a query and save results into pandas DataFrame\n",
    "    query_works = 'SELECT * FROM works'\n",
    "    query_cdindex = 'SELECT * FROM cdindex'\n",
    "    query_author_affiliations = 'SELECT * FROM author_affiliations'\n",
    "    query_work_authors = 'SELECT * FROM work_authors'\n",
    "    query_work_references = 'SELECT * FROM work_references'\n",
    "    query_work_subjects = 'SELECT * FROM work_subjects'\n",
    "\n",
    "    # Create separate DataFrames\n",
    "    works = pd.read_sql_query(query_works, sqliteConnection)\n",
    "    cdindex = pd.read_sql_query(query_cdindex, sqliteConnection)  # Target\n",
    "    author_affiliations = pd.read_sql_query(query_author_affiliations, sqliteConnection)\n",
    "    work_authors = pd.read_sql_query(query_work_authors, sqliteConnection)\n",
    "    work_references = pd.read_sql_query(query_work_references, sqliteConnection)  # Median of year\n",
    "    work_subjects = pd.read_sql_query(query_work_subjects, sqliteConnection)  # Modeled with 0 or 1\n",
    "\n",
    "    # Merge and aggregate them in a single DataFrame\n",
    "    # Authors\n",
    "    # Only keep authors with orcid\n",
    "    work_authors.dropna(subset=['orcid'], inplace=True)\n",
    "    # Merge\n",
    "    work_authors = pd.merge(work_authors, author_affiliations, left_on='id', right_on='author_id', how='left')\n",
    "    work_authors.drop(columns=['id', 'author_id'], inplace=True)  # Drop unecessary columns\n",
    "    # Remove outlier authors\n",
    "    authors = work_authors['orcid'].value_counts()\n",
    "    work_authors = work_authors[work_authors['orcid'].isin(authors[authors > 5].index)]\n",
    "    # Remove outlier affiliations\n",
    "    aff = work_authors['name'].value_counts()\n",
    "    work_authors.loc[work_authors['name'].isin(aff[aff < 4].index), 'name'] = None\n",
    "    # Create dummies\n",
    "    work_authors.set_index('work_id')\n",
    "    work_authors = pd.get_dummies(work_authors, prefix='', columns=['orcid', 'name'])\n",
    "    work_authors = work_authors.groupby('work_id').sum().reset_index()\n",
    "    # Merge and create dummies\n",
    "    works = pd.merge(works, work_authors, left_on='id', right_on='work_id', how='left')\n",
    "    works.drop(columns=['work_id'], inplace=True)\n",
    "\n",
    "    # References year\n",
    "    work_references.drop(columns=['article_title', 'doi'], inplace=True)\n",
    "    work_references.dropna(subset=['year'], inplace=True)\n",
    "    work_references = work_references[work_references['year'].str.isnumeric()]\n",
    "    work_references = work_references.astype({'year': int})\n",
    "    work_references = work_references.groupby('work_id').agg('mean').reset_index()\n",
    "    work_references = work_references.astype({'year': int})\n",
    "    work_references.rename(columns={'year': 'ref_year'}, inplace=True)\n",
    "    works = pd.merge(works, work_references, left_on='id', right_on='work_id', how='left')\n",
    "    works.drop(columns=['work_id'], inplace=True)\n",
    "\n",
    "    # Subjects\n",
    "    work_subjects.rename(columns={'name': 'subject'}, inplace=True)\n",
    "    subjects = work_subjects['subject'].value_counts()\n",
    "    work_subjects = work_subjects[work_subjects['subject'].isin(subjects[(subjects > 300) & (subjects < 2000)].index)]\n",
    "    work_subjects = pd.get_dummies(work_subjects, prefix='subject')\n",
    "    work_subjects = work_subjects.groupby('work_id').sum().reset_index()\n",
    "    works = pd.merge(works, work_subjects, left_on='id', right_on='work_id', how='left')\n",
    "    works.drop(columns=['work_id'], inplace=True)\n",
    "\n",
    "    # Target\n",
    "    works = pd.merge(works, cdindex, on='doi')\n",
    "\n",
    "# Handle errors\n",
    "except sqlite3.Error as error:\n",
    "    print('Error occurred - ', error)\n",
    "\n",
    "# Close DB Connection irrespective of success\n",
    "# or failure\n",
    "finally:\n",
    "\n",
    "    if sqliteConnection:\n",
    "        sqliteConnection.close()\n",
    "        print('SQLite Connection closed')\n"
   ]
  },
  {
   "cell_type": "markdown",
   "metadata": {},
   "source": [
    "## Decision Tree model"
   ]
  },
  {
   "cell_type": "markdown",
   "metadata": {},
   "source": [
    "* Εφώσον θέλουμε να υπολογίσουμε μια συνεχή αριθμητική τιμή θα φτιάξουμε ένα μοντέλο regression\n",
    "* Αφαιρούμε από το DataFrame `works` τις στήλες με κατηγορικά δεδομένα"
   ]
  },
  {
   "cell_type": "code",
   "execution_count": 3,
   "metadata": {},
   "outputs": [],
   "source": [
    "works_nn = works.drop(columns=['id', 'title', 'doi'])\n",
    "works.drop(columns=['abstract', 'id', 'title', 'doi'], inplace=True)"
   ]
  },
  {
   "cell_type": "markdown",
   "metadata": {},
   "source": [
    "* Γεμίζουμε με 0 τις NaN τιμές και χωρίζουμε το DataFrame σε training και testing"
   ]
  },
  {
   "cell_type": "code",
   "execution_count": 4,
   "metadata": {},
   "outputs": [],
   "source": [
    "works.fillna(0, inplace=True)\n",
    "X_train, X_test, y_train, y_test = train_test_split(works.iloc[:, :-1],\n",
    "                                                    works['cdindex'],\n",
    "                                                    test_size=0.25,\n",
    "                                                    random_state=42)"
   ]
  },
  {
   "cell_type": "markdown",
   "metadata": {},
   "source": [
    "* Βλέπουμε πως οι στήλες έχουν πολύ διαφορετικές διακυμάνσεις. Θέλοντας να αποφύγουμε την κανονικοποίηση θα χρησιμοποιήσουμε ένα μοντέλο regression με decision tree"
   ]
  },
  {
   "cell_type": "code",
   "execution_count": 5,
   "metadata": {},
   "outputs": [
    {
     "data": {
      "text/html": [
       "<div>\n",
       "<style scoped>\n",
       "    .dataframe tbody tr th:only-of-type {\n",
       "        vertical-align: middle;\n",
       "    }\n",
       "\n",
       "    .dataframe tbody tr th {\n",
       "        vertical-align: top;\n",
       "    }\n",
       "\n",
       "    .dataframe thead th {\n",
       "        text-align: right;\n",
       "    }\n",
       "</style>\n",
       "<table border=\"1\" class=\"dataframe\">\n",
       "  <thead>\n",
       "    <tr style=\"text-align: right;\">\n",
       "      <th></th>\n",
       "      <th>published_month</th>\n",
       "      <th>published_day</th>\n",
       "      <th>published_year</th>\n",
       "      <th>_0000-0001-5034-1135</th>\n",
       "      <th>_0000-0001-5114-6534</th>\n",
       "      <th>_0000-0001-5401-2996</th>\n",
       "      <th>_0000-0001-5576-636X</th>\n",
       "      <th>_0000-0001-5596-9853</th>\n",
       "      <th>_0000-0001-5647-6938</th>\n",
       "      <th>_0000-0001-5722-1347</th>\n",
       "      <th>...</th>\n",
       "      <th>subject_Statistics and Probability</th>\n",
       "      <th>subject_Statistics, Probability and Uncertainty</th>\n",
       "      <th>subject_Strategy and Management</th>\n",
       "      <th>subject_Surfaces, Coatings and Films</th>\n",
       "      <th>subject_Surgery</th>\n",
       "      <th>subject_Urban Studies</th>\n",
       "      <th>subject_Virology</th>\n",
       "      <th>subject_Visual Arts and Performing Arts</th>\n",
       "      <th>subject_Water Science and Technology</th>\n",
       "      <th>cdindex</th>\n",
       "    </tr>\n",
       "  </thead>\n",
       "  <tbody>\n",
       "    <tr>\n",
       "      <th>count</th>\n",
       "      <td>137641.000000</td>\n",
       "      <td>137641.000000</td>\n",
       "      <td>137641.000000</td>\n",
       "      <td>137641.000000</td>\n",
       "      <td>137641.000000</td>\n",
       "      <td>137641.000000</td>\n",
       "      <td>137641.000000</td>\n",
       "      <td>137641.000000</td>\n",
       "      <td>137641.000000</td>\n",
       "      <td>137641.000000</td>\n",
       "      <td>...</td>\n",
       "      <td>137641.000000</td>\n",
       "      <td>137641.000000</td>\n",
       "      <td>137641.000000</td>\n",
       "      <td>137641.000000</td>\n",
       "      <td>137641.000000</td>\n",
       "      <td>137641.000000</td>\n",
       "      <td>137641.000000</td>\n",
       "      <td>137641.000000</td>\n",
       "      <td>137641.000000</td>\n",
       "      <td>137641.000000</td>\n",
       "    </tr>\n",
       "    <tr>\n",
       "      <th>mean</th>\n",
       "      <td>6.283179</td>\n",
       "      <td>9.386774</td>\n",
       "      <td>2011.500360</td>\n",
       "      <td>0.000058</td>\n",
       "      <td>0.000073</td>\n",
       "      <td>0.000036</td>\n",
       "      <td>0.000036</td>\n",
       "      <td>0.000073</td>\n",
       "      <td>0.000065</td>\n",
       "      <td>0.000073</td>\n",
       "      <td>...</td>\n",
       "      <td>0.007418</td>\n",
       "      <td>0.004563</td>\n",
       "      <td>0.007396</td>\n",
       "      <td>0.003168</td>\n",
       "      <td>0.010251</td>\n",
       "      <td>0.002260</td>\n",
       "      <td>0.004330</td>\n",
       "      <td>0.002209</td>\n",
       "      <td>0.003952</td>\n",
       "      <td>0.132222</td>\n",
       "    </tr>\n",
       "    <tr>\n",
       "      <th>std</th>\n",
       "      <td>4.029692</td>\n",
       "      <td>10.531503</td>\n",
       "      <td>12.332147</td>\n",
       "      <td>0.015248</td>\n",
       "      <td>0.019059</td>\n",
       "      <td>0.013477</td>\n",
       "      <td>0.006027</td>\n",
       "      <td>0.019059</td>\n",
       "      <td>0.017259</td>\n",
       "      <td>0.019059</td>\n",
       "      <td>...</td>\n",
       "      <td>0.085807</td>\n",
       "      <td>0.067501</td>\n",
       "      <td>0.086358</td>\n",
       "      <td>0.056193</td>\n",
       "      <td>0.100873</td>\n",
       "      <td>0.047633</td>\n",
       "      <td>0.065661</td>\n",
       "      <td>0.046944</td>\n",
       "      <td>0.062743</td>\n",
       "      <td>0.340194</td>\n",
       "    </tr>\n",
       "    <tr>\n",
       "      <th>min</th>\n",
       "      <td>0.000000</td>\n",
       "      <td>0.000000</td>\n",
       "      <td>1945.000000</td>\n",
       "      <td>0.000000</td>\n",
       "      <td>0.000000</td>\n",
       "      <td>0.000000</td>\n",
       "      <td>0.000000</td>\n",
       "      <td>0.000000</td>\n",
       "      <td>0.000000</td>\n",
       "      <td>0.000000</td>\n",
       "      <td>...</td>\n",
       "      <td>0.000000</td>\n",
       "      <td>0.000000</td>\n",
       "      <td>0.000000</td>\n",
       "      <td>0.000000</td>\n",
       "      <td>0.000000</td>\n",
       "      <td>0.000000</td>\n",
       "      <td>0.000000</td>\n",
       "      <td>0.000000</td>\n",
       "      <td>0.000000</td>\n",
       "      <td>-1.000000</td>\n",
       "    </tr>\n",
       "    <tr>\n",
       "      <th>25%</th>\n",
       "      <td>3.000000</td>\n",
       "      <td>0.000000</td>\n",
       "      <td>2008.000000</td>\n",
       "      <td>0.000000</td>\n",
       "      <td>0.000000</td>\n",
       "      <td>0.000000</td>\n",
       "      <td>0.000000</td>\n",
       "      <td>0.000000</td>\n",
       "      <td>0.000000</td>\n",
       "      <td>0.000000</td>\n",
       "      <td>...</td>\n",
       "      <td>0.000000</td>\n",
       "      <td>0.000000</td>\n",
       "      <td>0.000000</td>\n",
       "      <td>0.000000</td>\n",
       "      <td>0.000000</td>\n",
       "      <td>0.000000</td>\n",
       "      <td>0.000000</td>\n",
       "      <td>0.000000</td>\n",
       "      <td>0.000000</td>\n",
       "      <td>0.000000</td>\n",
       "    </tr>\n",
       "    <tr>\n",
       "      <th>50%</th>\n",
       "      <td>6.000000</td>\n",
       "      <td>4.000000</td>\n",
       "      <td>2016.000000</td>\n",
       "      <td>0.000000</td>\n",
       "      <td>0.000000</td>\n",
       "      <td>0.000000</td>\n",
       "      <td>0.000000</td>\n",
       "      <td>0.000000</td>\n",
       "      <td>0.000000</td>\n",
       "      <td>0.000000</td>\n",
       "      <td>...</td>\n",
       "      <td>0.000000</td>\n",
       "      <td>0.000000</td>\n",
       "      <td>0.000000</td>\n",
       "      <td>0.000000</td>\n",
       "      <td>0.000000</td>\n",
       "      <td>0.000000</td>\n",
       "      <td>0.000000</td>\n",
       "      <td>0.000000</td>\n",
       "      <td>0.000000</td>\n",
       "      <td>0.000000</td>\n",
       "    </tr>\n",
       "    <tr>\n",
       "      <th>75%</th>\n",
       "      <td>10.000000</td>\n",
       "      <td>18.000000</td>\n",
       "      <td>2020.000000</td>\n",
       "      <td>0.000000</td>\n",
       "      <td>0.000000</td>\n",
       "      <td>0.000000</td>\n",
       "      <td>0.000000</td>\n",
       "      <td>0.000000</td>\n",
       "      <td>0.000000</td>\n",
       "      <td>0.000000</td>\n",
       "      <td>...</td>\n",
       "      <td>0.000000</td>\n",
       "      <td>0.000000</td>\n",
       "      <td>0.000000</td>\n",
       "      <td>0.000000</td>\n",
       "      <td>0.000000</td>\n",
       "      <td>0.000000</td>\n",
       "      <td>0.000000</td>\n",
       "      <td>0.000000</td>\n",
       "      <td>0.000000</td>\n",
       "      <td>0.000000</td>\n",
       "    </tr>\n",
       "    <tr>\n",
       "      <th>max</th>\n",
       "      <td>12.000000</td>\n",
       "      <td>31.000000</td>\n",
       "      <td>2021.000000</td>\n",
       "      <td>4.000000</td>\n",
       "      <td>5.000000</td>\n",
       "      <td>5.000000</td>\n",
       "      <td>1.000000</td>\n",
       "      <td>5.000000</td>\n",
       "      <td>5.000000</td>\n",
       "      <td>5.000000</td>\n",
       "      <td>...</td>\n",
       "      <td>1.000000</td>\n",
       "      <td>2.000000</td>\n",
       "      <td>2.000000</td>\n",
       "      <td>1.000000</td>\n",
       "      <td>2.000000</td>\n",
       "      <td>2.000000</td>\n",
       "      <td>1.000000</td>\n",
       "      <td>1.000000</td>\n",
       "      <td>1.000000</td>\n",
       "      <td>1.000000</td>\n",
       "    </tr>\n",
       "  </tbody>\n",
       "</table>\n",
       "<p>8 rows × 436 columns</p>\n",
       "</div>"
      ],
      "text/plain": [
       "       published_month  published_day  published_year  _0000-0001-5034-1135  \\\n",
       "count    137641.000000  137641.000000   137641.000000         137641.000000   \n",
       "mean          6.283179       9.386774     2011.500360              0.000058   \n",
       "std           4.029692      10.531503       12.332147              0.015248   \n",
       "min           0.000000       0.000000     1945.000000              0.000000   \n",
       "25%           3.000000       0.000000     2008.000000              0.000000   \n",
       "50%           6.000000       4.000000     2016.000000              0.000000   \n",
       "75%          10.000000      18.000000     2020.000000              0.000000   \n",
       "max          12.000000      31.000000     2021.000000              4.000000   \n",
       "\n",
       "       _0000-0001-5114-6534  _0000-0001-5401-2996  _0000-0001-5576-636X  \\\n",
       "count         137641.000000         137641.000000         137641.000000   \n",
       "mean               0.000073              0.000036              0.000036   \n",
       "std                0.019059              0.013477              0.006027   \n",
       "min                0.000000              0.000000              0.000000   \n",
       "25%                0.000000              0.000000              0.000000   \n",
       "50%                0.000000              0.000000              0.000000   \n",
       "75%                0.000000              0.000000              0.000000   \n",
       "max                5.000000              5.000000              1.000000   \n",
       "\n",
       "       _0000-0001-5596-9853  _0000-0001-5647-6938  _0000-0001-5722-1347  ...  \\\n",
       "count         137641.000000         137641.000000         137641.000000  ...   \n",
       "mean               0.000073              0.000065              0.000073  ...   \n",
       "std                0.019059              0.017259              0.019059  ...   \n",
       "min                0.000000              0.000000              0.000000  ...   \n",
       "25%                0.000000              0.000000              0.000000  ...   \n",
       "50%                0.000000              0.000000              0.000000  ...   \n",
       "75%                0.000000              0.000000              0.000000  ...   \n",
       "max                5.000000              5.000000              5.000000  ...   \n",
       "\n",
       "       subject_Statistics and Probability  \\\n",
       "count                       137641.000000   \n",
       "mean                             0.007418   \n",
       "std                              0.085807   \n",
       "min                              0.000000   \n",
       "25%                              0.000000   \n",
       "50%                              0.000000   \n",
       "75%                              0.000000   \n",
       "max                              1.000000   \n",
       "\n",
       "       subject_Statistics, Probability and Uncertainty  \\\n",
       "count                                    137641.000000   \n",
       "mean                                          0.004563   \n",
       "std                                           0.067501   \n",
       "min                                           0.000000   \n",
       "25%                                           0.000000   \n",
       "50%                                           0.000000   \n",
       "75%                                           0.000000   \n",
       "max                                           2.000000   \n",
       "\n",
       "       subject_Strategy and Management  subject_Surfaces, Coatings and Films  \\\n",
       "count                    137641.000000                         137641.000000   \n",
       "mean                          0.007396                              0.003168   \n",
       "std                           0.086358                              0.056193   \n",
       "min                           0.000000                              0.000000   \n",
       "25%                           0.000000                              0.000000   \n",
       "50%                           0.000000                              0.000000   \n",
       "75%                           0.000000                              0.000000   \n",
       "max                           2.000000                              1.000000   \n",
       "\n",
       "       subject_Surgery  subject_Urban Studies  subject_Virology  \\\n",
       "count    137641.000000          137641.000000     137641.000000   \n",
       "mean          0.010251               0.002260          0.004330   \n",
       "std           0.100873               0.047633          0.065661   \n",
       "min           0.000000               0.000000          0.000000   \n",
       "25%           0.000000               0.000000          0.000000   \n",
       "50%           0.000000               0.000000          0.000000   \n",
       "75%           0.000000               0.000000          0.000000   \n",
       "max           2.000000               2.000000          1.000000   \n",
       "\n",
       "       subject_Visual Arts and Performing Arts  \\\n",
       "count                            137641.000000   \n",
       "mean                                  0.002209   \n",
       "std                                   0.046944   \n",
       "min                                   0.000000   \n",
       "25%                                   0.000000   \n",
       "50%                                   0.000000   \n",
       "75%                                   0.000000   \n",
       "max                                   1.000000   \n",
       "\n",
       "       subject_Water Science and Technology        cdindex  \n",
       "count                         137641.000000  137641.000000  \n",
       "mean                               0.003952       0.132222  \n",
       "std                                0.062743       0.340194  \n",
       "min                                0.000000      -1.000000  \n",
       "25%                                0.000000       0.000000  \n",
       "50%                                0.000000       0.000000  \n",
       "75%                                0.000000       0.000000  \n",
       "max                                1.000000       1.000000  \n",
       "\n",
       "[8 rows x 436 columns]"
      ]
     },
     "execution_count": 5,
     "metadata": {},
     "output_type": "execute_result"
    }
   ],
   "source": [
    "works.describe()"
   ]
  },
  {
   "cell_type": "markdown",
   "metadata": {},
   "source": [
    "* Επιλέγουμε το `DecesionTreeRegressor` της βιβλιοθήκης `sklearn` και το κάνουμε fit σύμφωνα με το training DataFrame\n",
    "* Στο σημείο αυτό πρέπει να εξετάσουμε ποιο είναι το ιδανικό max_depth ώστε να υπολογίζεται η τιμή με επιτυχία, όμως να αποφεύγεται το φαινόμενο του overfit και το μοντέλο να μην επηρεάζεται από τον θόρυβο"
   ]
  },
  {
   "cell_type": "code",
   "execution_count": 6,
   "metadata": {},
   "outputs": [
    {
     "data": {
      "text/plain": [
       "DecisionTreeRegressor(max_depth=13)"
      ]
     },
     "execution_count": 6,
     "metadata": {},
     "output_type": "execute_result"
    }
   ],
   "source": [
    "works_tree = DecisionTreeRegressor(max_depth=13)\n",
    "works_tree.fit(X_train, y_train)"
   ]
  },
  {
   "cell_type": "markdown",
   "metadata": {},
   "source": [
    "* Θα κάνουμε Cross Validation με `GridSearch` για να βρούμε το ιδανικό `max_depth`"
   ]
  },
  {
   "cell_type": "code",
   "execution_count": 7,
   "metadata": {},
   "outputs": [
    {
     "name": "stdout",
     "output_type": "stream",
     "text": [
      "DecisionTreeRegressor(max_depth=11)\n",
      "{'max_depth': 11}\n"
     ]
    },
    {
     "data": {
      "image/png": "[encoded data removed]",
      "text/plain": [
       "<Figure size 360x216 with 1 Axes>"
      ]
     },
     "metadata": {
      "needs_background": "light"
     },
     "output_type": "display_data"
    }
   ],
   "source": [
    "parameters = [\n",
    "  {'max_depth': list(range(1, 21))},\n",
    " ]\n",
    "\n",
    "cv = KFold(n_splits=5, shuffle=True, random_state=13)\n",
    "clf = GridSearchCV(DecisionTreeRegressor(), parameters, cv=cv)\n",
    "\n",
    "clf = clf.fit(X_train, y_train)\n",
    "print(clf.best_estimator_)\n",
    "print(clf.best_params_)\n",
    "\n",
    "cv_results = pd.DataFrame(clf.cv_results_)\n",
    "plt.figure(figsize=(5, 3))\n",
    "plt.plot(cv_results['param_max_depth'], cv_results['mean_test_score'], label='True y')\n",
    "plt.xlabel('max depth')\n",
    "_ = plt.ylabel('mean score')\n",
    "plt.show()"
   ]
  },
  {
   "cell_type": "markdown",
   "metadata": {},
   "source": [
    "* Βλέπουμε ότι σωστά έχει επιλεχτεί το νούμερο 13\n",
    "* Σε εναλλακτική προσέγγιση θα μπορούσαμε να είχαμε εκτελέσει ένα feature selection για να αφαιρέσουμε τις περιττές στήλες\n",
    "* Κάνουμε την πρόβλεψη και βλέπουμε το Mean Absolute Error"
   ]
  },
  {
   "cell_type": "code",
   "execution_count": 8,
   "metadata": {},
   "outputs": [
    {
     "name": "stdout",
     "output_type": "stream",
     "text": [
      "MAE=0.16886544093960645\n"
     ]
    }
   ],
   "source": [
    "predicted = works_tree.predict(X_test)\n",
    "print(f'MAE={metrics.mean_absolute_error(y_test, predicted)}')"
   ]
  },
  {
   "cell_type": "markdown",
   "metadata": {},
   "source": [
    "Άρα το μοντέλο που φτιάξαμε υπολογίζει τον δείκτη CD5 με μέση απόκλιση 0.17"
   ]
  },
  {
   "cell_type": "markdown",
   "metadata": {},
   "source": [
    "## Neural Network model"
   ]
  },
  {
   "cell_type": "markdown",
   "metadata": {},
   "source": [
    "* Η δεύτερη προσέγγιση που θα δοκιμάσουμε θα είναι με Νευρωνικό Δίκτυο, χρησιμοποιώντας τη βιβλιοθήκη `TensorFlow`\n",
    "* Αρχικά θα επεξεργαστούμε το abstract των papers\n",
    "    * Θα κάνουμε όλους τους χαρακτήρες lowercase\n",
    "    * Θα αφαιρέσουμε περιτά σύμβολα και\n",
    "    * Θα εφαρμόσουμε ένα `TextVectorization` layer"
   ]
  },
  {
   "cell_type": "code",
   "execution_count": 9,
   "metadata": {},
   "outputs": [],
   "source": [
    "def custom_standardization(input_data):\n",
    "    lowercase = tf.strings.lower(input_data)\n",
    "    stripped_html = tf.strings.regex_replace(lowercase, r'^(<).*(>)$', '')\n",
    "    \n",
    "    return tf.strings.regex_replace(stripped_html,\n",
    "                                    '[%s]' % re.escape(string.punctuation),\n",
    "                                    '')\n",
    "max_features = 20000\n",
    "\n",
    "vectorize_layer = layers.TextVectorization(\n",
    "    standardize=custom_standardization,\n",
    "    max_tokens=max_features,\n",
    "    output_mode=\"multi_hot\"\n",
    ")\n",
    "vectorize_layer.adapt(works_nn['abstract'])\n",
    "works_nn['abstract'] = works_nn['abstract'].apply(\n",
    "    lambda x: (vectorize_layer(x)))"
   ]
  },
  {
   "cell_type": "markdown",
   "metadata": {},
   "source": [
    "* Στη συνέχεια, επειδή χρησιμοποιούμε Νευρωνικά Δίκτυα, θα κανονικοποιήσουμε τα δεδομένα μας με έναν `MinMax` scaler\n",
    "* Τα vectors που δημιουργήσαμε στο προηγούμενο βήμα δεν έχει νόημα να κανονικοποιηθούν, επομένως προστίθενται στο τέλος"
   ]
  },
  {
   "cell_type": "code",
   "execution_count": 10,
   "metadata": {},
   "outputs": [],
   "source": [
    "from sklearn.preprocessing import MinMaxScaler\n",
    "scaler = MinMaxScaler()\n",
    "works = pd.DataFrame(scaler.fit_transform(works), columns=works.columns)\n",
    "works['abstract'] = works_nn['abstract']"
   ]
  },
  {
   "cell_type": "markdown",
   "metadata": {},
   "source": [
    "* Χωρίζουμε το DataFrame σε training και testing όπως προηγουμένως"
   ]
  },
  {
   "cell_type": "code",
   "execution_count": 11,
   "metadata": {},
   "outputs": [],
   "source": [
    "X_train, X_test, y_train, y_test = train_test_split(works.iloc[:, :-1],\n",
    "                                                    works['cdindex'],\n",
    "                                                    test_size=0.25,\n",
    "                                                    random_state=42)"
   ]
  },
  {
   "cell_type": "markdown",
   "metadata": {},
   "source": [
    "* Χτίζουμε το μοντέλο που θα εκπαιδευτεί\n",
    "* Το μοντέλο αποτελέιται από τρία dense στρώματα που έχουν σαν output την τελική τιμή υπολογισμού του CD5"
   ]
  },
  {
   "cell_type": "code",
   "execution_count": 12,
   "metadata": {},
   "outputs": [],
   "source": [
    "def build_compile_model():\n",
    "    model = keras.Sequential([\n",
    "        layers.Dense(40, activation='relu'),\n",
    "        layers.Dense(40, activation='relu'),\n",
    "        layers.Dense(1)\n",
    "    ])\n",
    "\n",
    "    model.compile(loss='mean_absolute_error',\n",
    "                  optimizer=tf.keras.optimizers.Adam(0.001))\n",
    "\n",
    "    return model\n",
    "\n",
    "\n",
    "model = build_compile_model()"
   ]
  },
  {
   "cell_type": "markdown",
   "metadata": {},
   "source": [
    "* Τρέχουμε το μοντέλο και βλέπουμε το Mean Absolute Error\n",
    "* Για να αποφύγουμε περιτές επαναλλήψεις και το φαινόμενο του overfit χρησιμοποιούμε τη μέθοδο EarlyStopping η οποία θα σταματήσει μετά από 10 επαναλλήψεις με ίδιο ή μεγαλύτερο validation loss"
   ]
  },
  {
   "cell_type": "code",
   "execution_count": null,
   "metadata": {},
   "outputs": [
    {
     "name": "stderr",
     "output_type": "stream",
     "text": [
      "C:\\Users\\Ioann\\anaconda3\\lib\\site-packages\\keras\\engine\\data_adapter.py:1696: FutureWarning: The behavior of `series[i:j]` with an integer-dtype index is deprecated. In a future version, this will be treated as *label-based* indexing, consistent with e.g. `series[i]` lookups. To retain the old behavior, use `series.iloc[i:j]`. To get the future behavior, use `series.loc[i:j]`.\n",
      "  return t[start:end]\n"
     ]
    },
    {
     "name": "stdout",
     "output_type": "stream",
     "text": [
      "Epoch 1/100\n",
      "2581/2581 [==============================] - 18s 6ms/step - loss: 0.0145 - val_loss: 0.0077\n",
      "Epoch 2/100\n",
      "2581/2581 [==============================] - 15s 6ms/step - loss: 0.0058 - val_loss: 0.0038\n",
      "Epoch 3/100\n",
      "2581/2581 [==============================] - 14s 5ms/step - loss: 0.0050 - val_loss: 0.0065\n",
      "Epoch 4/100\n",
      "2581/2581 [==============================] - 14s 5ms/step - loss: 0.0045 - val_loss: 0.0037\n",
      "Epoch 5/100\n",
      "2581/2581 [==============================] - 13s 5ms/step - loss: 0.0041 - val_loss: 0.0036\n",
      "Epoch 6/100\n",
      "2581/2581 [==============================] - 12s 5ms/step - loss: 0.0038 - val_loss: 0.0026\n",
      "Epoch 7/100\n",
      "2581/2581 [==============================] - 14s 6ms/step - loss: 0.0035 - val_loss: 0.0036\n",
      "Epoch 8/100\n",
      "2581/2581 [==============================] - 14s 5ms/step - loss: 0.0033 - val_loss: 0.0029\n",
      "Epoch 9/100\n",
      "2581/2581 [==============================] - 11s 4ms/step - loss: 0.0032 - val_loss: 0.0026\n",
      "Epoch 10/100\n",
      "2581/2581 [==============================] - 13s 5ms/step - loss: 0.0030 - val_loss: 0.0022\n",
      "Epoch 11/100\n",
      "2581/2581 [==============================] - 14s 5ms/step - loss: 0.0029 - val_loss: 0.0034\n",
      "Epoch 12/100\n",
      "2581/2581 [==============================] - 13s 5ms/step - loss: 0.0027 - val_loss: 0.0017\n",
      "Epoch 13/100\n",
      "2581/2581 [==============================] - 15s 6ms/step - loss: 0.0025 - val_loss: 0.0028\n",
      "Epoch 14/100\n",
      "2581/2581 [==============================] - 15s 6ms/step - loss: 0.0024 - val_loss: 0.0023\n",
      "Epoch 15/100\n",
      "2581/2581 [==============================] - 15s 6ms/step - loss: 0.0024 - val_loss: 0.0020\n",
      "Epoch 16/100\n",
      "2581/2581 [==============================] - 15s 6ms/step - loss: 0.0023 - val_loss: 0.0029\n",
      "Epoch 17/100\n",
      "2581/2581 [==============================] - 15s 6ms/step - loss: 0.0023 - val_loss: 0.0037\n",
      "Epoch 18/100\n",
      "2581/2581 [==============================] - 14s 5ms/step - loss: 0.0023 - val_loss: 0.0025\n",
      "Epoch 19/100\n",
      "2581/2581 [==============================] - 15s 6ms/step - loss: 0.0022 - val_loss: 0.0020\n",
      "Epoch 20/100\n",
      " 217/2581 [=>............................] - ETA: 12s - loss: 0.0021"
     ]
    }
   ],
   "source": [
    "num_epochs = 100\n",
    "\n",
    "early_stop = keras.callbacks.EarlyStopping(monitor='val_loss', patience=10)\n",
    "\n",
    "history = model.fit(X_train, y_train,\n",
    "                    epochs=num_epochs,\n",
    "                    validation_split=0.2,\n",
    "                    verbose=1,\n",
    "                    callbacks=[early_stop])\n",
    "print(f'MAE={model.evaluate(X_test, y_test, verbose=1)}')"
   ]
  }
 ],
 "metadata": {
  "kernelspec": {
   "display_name": "Python 3",
   "language": "python",
   "name": "python3"
  },
  "language_info": {
   "codemirror_mode": {
    "name": "ipython",
    "version": 3
   },
   "file_extension": ".py",
   "mimetype": "text/x-python",
   "name": "python",
   "nbconvert_exporter": "python",
   "pygments_lexer": "ipython3",
   "version": "3.8.5"
  }
 },
 "nbformat": 4,
 "nbformat_minor": 4
}
